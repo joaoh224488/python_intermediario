{
 "cells": [
  {
   "cell_type": "markdown",
   "metadata": {},
   "source": [
    "## List Comprehension\n",
    "\n",
    "<p>List comprehension é uma sintaxe para criação de uma iterável baseada em outros iteráveis existentes.</p>\n",
    "\n",
    "<p>De início, perceba que list comprehension resolve um problema fundamental na atribuição de variáveis do tipo lista quando se pretende copiar o conteúdo de uma lista para outra</p>"
   ]
  },
  {
   "cell_type": "code",
   "execution_count": 1,
   "metadata": {},
   "outputs": [
    {
     "data": {
      "text/plain": [
       "[1, 2, 3, 4, 5]"
      ]
     },
     "execution_count": 1,
     "metadata": {},
     "output_type": "execute_result"
    }
   ],
   "source": [
    "# Criando lista\n",
    "l = [1, 2, 3, 4, 5]\n",
    "l"
   ]
  },
  {
   "cell_type": "code",
   "execution_count": 2,
   "metadata": {},
   "outputs": [
    {
     "name": "stdout",
     "output_type": "stream",
     "text": [
      "[1, 2, 3, 4, 5, 'Coisa']\n",
      "[1, 2, 3, 4, 5, 'Coisa']\n"
     ]
    }
   ],
   "source": [
    "# Nova lista\n",
    "new_l = l\n",
    "# Append na nova lista\n",
    "new_l.append('Coisa')\n",
    "print(new_l)\n",
    "print(l)\n",
    "# Ambas as listas foram alteradas"
   ]
  },
  {
   "cell_type": "markdown",
   "metadata": {},
   "source": [
    "<p>Isso acontece porque ao fazer uma cópia rasa de uma lista, a variável nova e a lista original apontam para a mesma posição de memória. O conteúdo permanece no mesmo lugar, apenas criamos duas formas diferentes de chamá-lo para o programa principal.</p>"
   ]
  },
  {
   "cell_type": "code",
   "execution_count": 3,
   "metadata": {},
   "outputs": [
    {
     "data": {
      "text/plain": [
       "[1, 2, 3, 4, 5]"
      ]
     },
     "execution_count": 3,
     "metadata": {},
     "output_type": "execute_result"
    }
   ],
   "source": [
    "# Usando list comprehension para copiar apenas o conteúdo de uma variável\n",
    "\n",
    "l = [1, 2, 3, 4, 5]\n",
    "l"
   ]
  },
  {
   "cell_type": "code",
   "execution_count": 4,
   "metadata": {},
   "outputs": [
    {
     "data": {
      "text/plain": [
       "[1, 2, 3, 4, 5]"
      ]
     },
     "execution_count": 4,
     "metadata": {},
     "output_type": "execute_result"
    }
   ],
   "source": [
    "new_l = [i for i in l]\n",
    "\n",
    "new_l"
   ]
  },
  {
   "cell_type": "code",
   "execution_count": 5,
   "metadata": {},
   "outputs": [
    {
     "name": "stdout",
     "output_type": "stream",
     "text": [
      "['AAAAAAAAAA', 2, 3, 4, 5]\n",
      "[1, 2, 3, 4, 5]\n"
     ]
    }
   ],
   "source": [
    "l[0] = 'AAAAAAAAAA'\n",
    "print(l)\n",
    "print(new_l)"
   ]
  },
  {
   "cell_type": "markdown",
   "metadata": {},
   "source": [
    "### Usos:\n",
    "\n",
    "#### Para alterar listas:"
   ]
  },
  {
   "cell_type": "code",
   "execution_count": 6,
   "metadata": {},
   "outputs": [
    {
     "name": "stdout",
     "output_type": "stream",
     "text": [
      "[0.5, 1.0, 1.5, 2.0, 2.5]\n",
      "[2, 4, 6, 8, 10]\n",
      "[1, 4, 9, 16, 25]\n"
     ]
    }
   ],
   "source": [
    "di = [i / 2 for i in new_l]\n",
    "mult = [i * 2 for i in new_l]\n",
    "squared = [i ** 2 for i in new_l]\n",
    "\n",
    "print(f\"{di}\\n{mult}\\n{squared}\")"
   ]
  },
  {
   "cell_type": "markdown",
   "metadata": {},
   "source": [
    "<p>É possível usar funções como parte interna da sintaxe também, se houver necessidade</p>"
   ]
  },
  {
   "cell_type": "code",
   "execution_count": 7,
   "metadata": {},
   "outputs": [],
   "source": [
    "# Funções para detectar números primos próximos:\n",
    "\n",
    "def prime(x):\n",
    "    count = 0\n",
    "    for a in range(1, x +1):\n",
    "        if x % a == 0:\n",
    "            count += 1\n",
    "    if count == 2:\n",
    "        return True\n",
    "    else:\n",
    "        return False\n",
    "\n",
    "def prime_sup(x):\n",
    "    p = 1\n",
    "    while True:\n",
    "        numero = x + p\n",
    "        if prime(numero) == True:\n",
    "            break\n",
    "        p +=1\n",
    "    return numero\n",
    "\n",
    "def prime_inf(x):\n",
    "    p = 1\n",
    "    while True:\n",
    "        numero = x - p\n",
    "        if numero < 0:\n",
    "            numero = None\n",
    "            break\n",
    "        if prime(numero) == True:\n",
    "            break \n",
    "        p +=1 \n",
    "    return numero\n",
    "\n",
    "def closest_prime(x):\n",
    "    sup = prime_sup(x)\n",
    "    inf = prime_inf(x)\n",
    "    \n",
    "    if inf != None:\n",
    "\n",
    "        difsup = sup - x\n",
    "        difinf = x - inf\n",
    "\n",
    "        if difsup <= difinf:\n",
    "            return sup\n",
    "\n",
    "        else:\n",
    "            return inf\n",
    "    else:\n",
    "        return sup"
   ]
  },
  {
   "cell_type": "code",
   "execution_count": 8,
   "metadata": {},
   "outputs": [
    {
     "data": {
      "text/plain": [
       "[2, 3, 2, 5, 7]"
      ]
     },
     "execution_count": 8,
     "metadata": {},
     "output_type": "execute_result"
    }
   ],
   "source": [
    "c_primes = [closest_prime(i) for i in new_l]\n",
    "c_primes"
   ]
  },
  {
   "cell_type": "markdown",
   "metadata": {},
   "source": [
    "#### Para filtrar listas:\n",
    "\n",
    "Sintaxe: [*variavel_do_loop* **for** *variavel_do_loop* in lista **if _condição_** ]\n",
    "<br>\n",
    "<br> Ou: <br>\n",
    "\n",
    "Sintaxe: [*variavel_do_loop* **if_condição1_** **else *valor substituído*** for *variavel_do_loop* in lista **if _condição_**]\n",
    "<br>\n",
    "<p> OBS: Na segunda sintaxe o else OBRIGATÓRIO</p>"
   ]
  },
  {
   "cell_type": "code",
   "execution_count": 9,
   "metadata": {},
   "outputs": [
    {
     "name": "stdout",
     "output_type": "stream",
     "text": [
      "[2, 4, 6, 8, 10]\n",
      "[1, 3, 5, 7, 9]\n"
     ]
    }
   ],
   "source": [
    "numeros = [1, 2, 3, 4, 5, 6, 7, 8, 9, 10]\n",
    "\n",
    "pares = [i for i in numeros if i % 2 == 0]\n",
    "\n",
    "impares = [i for i in numeros if i % 2 == 1]\n",
    "\n",
    "print(pares)\n",
    "print(impares)"
   ]
  },
  {
   "cell_type": "code",
   "execution_count": 10,
   "metadata": {},
   "outputs": [
    {
     "data": {
      "text/plain": [
       "[6, None, 8, None, 10]"
      ]
     },
     "execution_count": 10,
     "metadata": {},
     "output_type": "execute_result"
    }
   ],
   "source": [
    "d = [i if i % 2 == 0 else None for i in numeros if i >5 ]\n",
    "\n",
    "d"
   ]
  },
  {
   "cell_type": "markdown",
   "metadata": {},
   "source": [
    "#### Para Matrizes:\n",
    "\n",
    "OBS: O segundo *for* sempre está **dentro** do primeiro."
   ]
  },
  {
   "cell_type": "code",
   "execution_count": 11,
   "metadata": {},
   "outputs": [
    {
     "data": {
      "text/plain": [
       "[(0, 0),\n",
       " (0, 1),\n",
       " (0, 2),\n",
       " (1, 0),\n",
       " (1, 1),\n",
       " (1, 2),\n",
       " (2, 0),\n",
       " (2, 1),\n",
       " (2, 2),\n",
       " (3, 0),\n",
       " (3, 1),\n",
       " (3, 2),\n",
       " (4, 0),\n",
       " (4, 1),\n",
       " (4, 2)]"
      ]
     },
     "execution_count": 11,
     "metadata": {},
     "output_type": "execute_result"
    }
   ],
   "source": [
    "lines_n_columns = [\n",
    "    (x, y)\n",
    "    for x in range(5)\n",
    "    for y in range(3)\n",
    "]\n",
    "\n",
    "lines_n_columns\n"
   ]
  },
  {
   "cell_type": "code",
   "execution_count": 12,
   "metadata": {},
   "outputs": [
    {
     "data": {
      "text/plain": [
       "[(0, 0), (0, 1), (0, 2), (1, 0), (1, 1), (1, 2), (2, 0), (2, 1), (2, 2)]"
      ]
     },
     "execution_count": 12,
     "metadata": {},
     "output_type": "execute_result"
    }
   ],
   "source": [
    "# Condição para leitura ao final apenas quando x<3:\n",
    "\n",
    "lines_n_columns = [\n",
    "    (x, y)\n",
    "    for x in range(5)\n",
    "    for y in range(3)\n",
    "    if x <3\n",
    "]\n",
    "\n",
    "lines_n_columns"
   ]
  },
  {
   "cell_type": "code",
   "execution_count": 13,
   "metadata": {},
   "outputs": [
    {
     "data": {
      "text/plain": [
       "[(3, 0), (3, 1), (3, 2), (None, None), (None, None), (None, None)]"
      ]
     },
     "execution_count": 13,
     "metadata": {},
     "output_type": "execute_result"
    }
   ],
   "source": [
    "# Condição para leitura ao final apenas quando x>3:\n",
    "\n",
    "lines_n_columns = [\n",
    "    (x, y)\n",
    "    if x != 4 else (None, None)\n",
    "    for x in range(5)\n",
    "    for y in range(3)\n",
    "    if x >=3\n",
    "]\n",
    "\n",
    "lines_n_columns"
   ]
  },
  {
   "cell_type": "markdown",
   "metadata": {},
   "source": [
    "#### list comprehension com strings:"
   ]
  },
  {
   "cell_type": "code",
   "execution_count": 14,
   "metadata": {},
   "outputs": [
    {
     "data": {
      "text/plain": [
       "['M', 'a', 'd', 'a', 'm', 'e', ' ', 'B', 'o', 'v', 'a', 'r', 'y']"
      ]
     },
     "execution_count": 14,
     "metadata": {},
     "output_type": "execute_result"
    }
   ],
   "source": [
    "exemplo = 'Madame Bovary'\n",
    "carac_exemplo = [i for i in exemplo]\n",
    "\n",
    "carac_exemplo"
   ]
  },
  {
   "cell_type": "code",
   "execution_count": 15,
   "metadata": {},
   "outputs": [
    {
     "data": {
      "text/plain": [
       "'Madame Bovary'"
      ]
     },
     "execution_count": 15,
     "metadata": {},
     "output_type": "execute_result"
    }
   ],
   "source": [
    "# Para juntar o conteúdo em uma nova string:\n",
    "\n",
    "new_ex = ''.join([i for i in exemplo])\n",
    "\n",
    "new_ex"
   ]
  },
  {
   "cell_type": "code",
   "execution_count": 16,
   "metadata": {},
   "outputs": [
    {
     "data": {
      "text/plain": [
       "['Ma', 'da', 'me', ' B', 'ov', 'ar', 'y']"
      ]
     },
     "execution_count": 16,
     "metadata": {},
     "output_type": "execute_result"
    }
   ],
   "source": [
    "# Para dividir uma string por número de letras e colocar os valores em uma lista:\n",
    "\n",
    "letras = 2\n",
    "\n",
    "new_ex_group = [\n",
    "    exemplo[indice: indice + letras]\n",
    "    for indice in range(0, len(exemplo), letras)\n",
    "]\n",
    "new_ex_group"
   ]
  },
  {
   "cell_type": "code",
   "execution_count": 17,
   "metadata": {},
   "outputs": [
    {
     "data": {
      "text/plain": [
       "'Ma.da.me. B.ov.ar.y'"
      ]
     },
     "execution_count": 17,
     "metadata": {},
     "output_type": "execute_result"
    }
   ],
   "source": [
    "# Criando uma nova string modificada:\n",
    "\n",
    "letras = 2\n",
    "\n",
    "new_ex_group = '.'.join([\n",
    "    exemplo[indice: indice + letras]\n",
    "    for indice in range(0, len(exemplo), letras)\n",
    "])\n",
    "new_ex_group"
   ]
  },
  {
   "cell_type": "code",
   "execution_count": 18,
   "metadata": {},
   "outputs": [
    {
     "data": {
      "text/plain": [
       "['Arthur', 'Camila', 'Pedro', 'Jorge', 'Helena']"
      ]
     },
     "execution_count": 18,
     "metadata": {},
     "output_type": "execute_result"
    }
   ],
   "source": [
    "# Curiosidade:\n",
    "# Função title do Python que só altera a primeira letra de uma string sendo usada:\n",
    "\n",
    "nomes = ['arthur', 'camila', 'pedro', 'jorge', 'helena']\n",
    "\n",
    "titulos = [no.title() for no in nomes]\n",
    "\n",
    "titulos"
   ]
  },
  {
   "cell_type": "code",
   "execution_count": 19,
   "metadata": {},
   "outputs": [
    {
     "data": {
      "text/plain": [
       "['arthuR', 'camilA', 'pedrO', 'jorgE', 'helenA']"
      ]
     },
     "execution_count": 19,
     "metadata": {},
     "output_type": "execute_result"
    }
   ],
   "source": [
    "# Exercício: Para deixar a ultima letra minuscula\n",
    "\n",
    "coisa = [f'{no[:-1].lower()}{no[-1].upper()}' for no in nomes]\n",
    "coisa"
   ]
  },
  {
   "cell_type": "markdown",
   "metadata": {},
   "source": [
    "#### Flatmap (achatamento de listas) com list comprehension\n",
    "\n",
    "<p>Transforma uma lista de listas em uma única lista</p>"
   ]
  },
  {
   "cell_type": "code",
   "execution_count": 20,
   "metadata": {},
   "outputs": [
    {
     "data": {
      "text/plain": [
       "[(10, 11), (12, 13), (14, 13)]"
      ]
     },
     "execution_count": 20,
     "metadata": {},
     "output_type": "execute_result"
    }
   ],
   "source": [
    "# Lista de tuplas com números não primos próximos a primos\n",
    "\n",
    "ninho_primos = [(x, closest_prime(x)) for x in range(10, 15) if prime(x) == False]\n",
    "ninho_primos"
   ]
  },
  {
   "cell_type": "code",
   "execution_count": 21,
   "metadata": {},
   "outputs": [
    {
     "data": {
      "text/plain": [
       "[10, 11, 12, 13, 14, 13]"
      ]
     },
     "execution_count": 21,
     "metadata": {},
     "output_type": "execute_result"
    }
   ],
   "source": [
    "flat = [y for x in ninho_primos for y in x]\n",
    "\n",
    "flat"
   ]
  },
  {
   "cell_type": "markdown",
   "metadata": {},
   "source": [
    "### Dict comprehension\n",
    "\n",
    "<p> Muito similar à lógica de list comprehension mas associada aos dicionários.</p>"
   ]
  },
  {
   "cell_type": "code",
   "execution_count": 22,
   "metadata": {},
   "outputs": [
    {
     "data": {
      "text/plain": [
       "{'Chave1': 'Valor1', 'Chave2': 'Valor2'}"
      ]
     },
     "execution_count": 22,
     "metadata": {},
     "output_type": "execute_result"
    }
   ],
   "source": [
    "l1 = [('Chave1', 'Valor1'), ('Chave2', 'Valor2')]\n",
    "\n",
    "dc1 = {x: y for x, y in l1}\n",
    "\n",
    "dc1"
   ]
  },
  {
   "cell_type": "code",
   "execution_count": 23,
   "metadata": {},
   "outputs": [
    {
     "data": {
      "text/plain": [
       "{'Chave1': 'VALOR1', 'Chave2': 'VALOR2'}"
      ]
     },
     "execution_count": 23,
     "metadata": {},
     "output_type": "execute_result"
    }
   ],
   "source": [
    "dcup = {x: y.upper() for x, y in l1}\n",
    "dcup"
   ]
  },
  {
   "cell_type": "code",
   "execution_count": 24,
   "metadata": {},
   "outputs": [
    {
     "data": {
      "text/plain": [
       "{1: 2, 10: 11, 102: 103, 14: 13}"
      ]
     },
     "execution_count": 24,
     "metadata": {},
     "output_type": "execute_result"
    }
   ],
   "source": [
    "numeros = [1, 10, 102, 14]\n",
    "\n",
    "dicionario_primos = {x : closest_prime(x) for x in numeros}\n",
    "\n",
    "dicionario_primos"
   ]
  },
  {
   "cell_type": "code",
   "execution_count": 25,
   "metadata": {},
   "outputs": [
    {
     "name": "stdout",
     "output_type": "stream",
     "text": [
      "{0: 'M', 1: 'a', 2: 'd', 3: 'a', 4: 'm', 5: 'e', 6: ' ', 7: 'B', 8: 'o', 9: 'v', 10: 'a', 11: 'r', 12: 'y'}\n"
     ]
    }
   ],
   "source": [
    "# Função enumerate\n",
    "\n",
    "print(dict(enumerate(exemplo)))"
   ]
  }
 ],
 "metadata": {
  "interpreter": {
   "hash": "4e7e4edc79d43486975e43ffb9f70caa5d73df88ab12157b795d6266fbee6759"
  },
  "kernelspec": {
   "display_name": "Python 3.9.7 ('base')",
   "language": "python",
   "name": "python3"
  },
  "language_info": {
   "codemirror_mode": {
    "name": "ipython",
    "version": 3
   },
   "file_extension": ".py",
   "mimetype": "text/x-python",
   "name": "python",
   "nbconvert_exporter": "python",
   "pygments_lexer": "ipython3",
   "version": "3.9.7"
  },
  "orig_nbformat": 4
 },
 "nbformat": 4,
 "nbformat_minor": 2
}

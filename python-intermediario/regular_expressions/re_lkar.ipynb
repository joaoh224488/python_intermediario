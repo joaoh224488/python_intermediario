{
 "cells": [
  {
   "cell_type": "code",
   "execution_count": 8,
   "metadata": {},
   "outputs": [],
   "source": [
    "import re\n",
    "from pprint import pprint"
   ]
  },
  {
   "cell_type": "code",
   "execution_count": 2,
   "metadata": {},
   "outputs": [],
   "source": [
    "texto = '''\n",
    "ONLINE  192.168.0.1 GHIJK active\n",
    "OFFLINE  192.168.0.2 GHIJK inactive\n",
    "OFFLINE  192.168.0.3 GHIJK active\n",
    "ONLINE  192.168.0.4 GHIJK active\n",
    "ONLINE  192.168.0.5 GHIJK inactive\n",
    "OFFLINE  192.168.0.6 GHIJK active\n",
    "'''"
   ]
  },
  {
   "cell_type": "code",
   "execution_count": 9,
   "metadata": {},
   "outputs": [
    {
     "name": "stdout",
     "output_type": "stream",
     "text": [
      "[('192.168.0.1', 'active'),\n",
      " ('192.168.0.2', 'inactive'),\n",
      " ('192.168.0.3', 'active'),\n",
      " ('192.168.0.4', 'active'),\n",
      " ('192.168.0.5', 'inactive'),\n",
      " ('192.168.0.6', 'active')]\n"
     ]
    }
   ],
   "source": [
    "# Para achar esses IPs:\n",
    "\n",
    "ips = re.findall(r'\\w+\\s+(\\d+\\.\\d+\\.\\d+\\.\\d+)\\s+\\w+\\s+(\\w+)', texto)\n",
    "\n",
    "pprint(ips)"
   ]
  },
  {
   "cell_type": "markdown",
   "metadata": {},
   "source": [
    "<p>Digamos que você queira apenas os IPs ativos mas não queira salvar esse active na tupla. Basta usar um lookaround.</p>\n",
    "\n",
    "### Lookarounds:\n",
    "\n",
    "<p>São mecanismos em expressões regulares para olhar em volta da string sem necessariamente fazer o objeto de interesse parte da saída desejada.</p>\n",
    "\n",
    "#### Lookaheads (olham pra frente da string):\n",
    "\n",
    "* ?= : Positive lookahead(igual à expressão);\n",
    "* ?! : Negative lookahead( diferente da expressão)\n",
    "\n",
    "#### Lookbehinds (olham pra trás da string):\n",
    "\n",
    "* ?<= : Positive lookbehind(igual à expressão);\n",
    "* ?<! : Negative lookahead( diferente da expressão)"
   ]
  },
  {
   "cell_type": "code",
   "execution_count": 11,
   "metadata": {},
   "outputs": [
    {
     "name": "stdout",
     "output_type": "stream",
     "text": [
      "['192.168.0.1', '192.168.0.3', '192.168.0.4', '192.168.0.6']\n"
     ]
    }
   ],
   "source": [
    "# Para retornar apenas os Ips ativos:\n",
    "actives = re.findall(r'\\w+\\s+(\\d+\\.\\d+\\.\\d+\\.\\d+)\\s+\\w+\\s+(?=active)', texto)\n",
    "pprint(actives)\n"
   ]
  },
  {
   "cell_type": "code",
   "execution_count": 13,
   "metadata": {},
   "outputs": [
    {
     "name": "stdout",
     "output_type": "stream",
     "text": [
      "['192.168.0.2', '192.168.0.5']\n"
     ]
    }
   ],
   "source": [
    "# Para retornar os diferentes de actives:\n",
    "not_actives = re.findall(r'\\w+\\s+(\\d+\\.\\d+\\.\\d+\\.\\d+)\\s+\\w+\\s+(?!active)', texto)\n",
    "\n",
    "pprint(not_actives)"
   ]
  },
  {
   "cell_type": "code",
   "execution_count": 18,
   "metadata": {},
   "outputs": [
    {
     "name": "stdout",
     "output_type": "stream",
     "text": [
      "['OFFLINE  192.168.0.2 GHIJK inactive', 'ONLINE  192.168.0.5 GHIJK inactive']\n"
     ]
    }
   ],
   "source": [
    "# Fazendo o lookahead para obter a linha inteira:\n",
    "# Obter o inactive;\n",
    "\n",
    "inactives = re.findall(r'(?=.*inactive).+', texto)\n",
    "# Leia todas com final inactive:\n",
    "\n",
    "pprint(inactives)"
   ]
  },
  {
   "cell_type": "code",
   "execution_count": 19,
   "metadata": {},
   "outputs": [
    {
     "name": "stdout",
     "output_type": "stream",
     "text": [
      "['ONLINE  192.168.0.1 GHIJK active',\n",
      " 'OFFLINE  192.168.0.3 GHIJK active',\n",
      " 'ONLINE  192.168.0.4 GHIJK active',\n",
      " 'OFFLINE  192.168.0.6 GHIJK active']\n"
     ]
    }
   ],
   "source": [
    "actives = re.findall(r'(?=.*[^in]active).+', texto)\n",
    "\n",
    "# Não é só colocar o active porque tanto os actives quanto inactives contêm 'actives'\n",
    "\n",
    "pprint(actives)"
   ]
  },
  {
   "cell_type": "code",
   "execution_count": 20,
   "metadata": {},
   "outputs": [
    {
     "data": {
      "text/plain": [
       "['192.168.0.1', '192.168.0.4', '192.168.0.5']"
      ]
     },
     "execution_count": 20,
     "metadata": {},
     "output_type": "execute_result"
    }
   ],
   "source": [
    "# Usando lookbehinds:\n",
    "\n",
    "# O objetivo é achar quem está ONLINE:\n",
    "\n",
    "onlines = re.findall(r'\\w+(?<=online)\\s+(\\d+\\.\\d+\\.\\d+\\.\\d+)\\s+\\w+\\s+', texto, re.I)\n",
    "\n",
    "onlines"
   ]
  },
  {
   "cell_type": "code",
   "execution_count": 21,
   "metadata": {},
   "outputs": [
    {
     "data": {
      "text/plain": [
       "['192.168.0.2', '192.168.0.3', '192.168.0.6']"
      ]
     },
     "execution_count": 21,
     "metadata": {},
     "output_type": "execute_result"
    }
   ],
   "source": [
    "no_online = re.findall(r'\\w+(?<!online)\\s+(\\d+\\.\\d+\\.\\d+\\.\\d+)\\s+\\w+\\s+', texto, re.I)\n",
    "\n",
    "no_online"
   ]
  },
  {
   "cell_type": "code",
   "execution_count": 25,
   "metadata": {},
   "outputs": [
    {
     "data": {
      "text/plain": [
       "['192.168.0.2', '192.168.0.3', '192.168.0.6']"
      ]
     },
     "execution_count": 25,
     "metadata": {},
     "output_type": "execute_result"
    }
   ],
   "source": [
    "offlines = re.findall(r'\\w+(?<=offline)\\s+(\\d+\\.\\d+\\.\\d+\\.\\d+)\\s+\\w+\\s+', texto, re.I)\n",
    "\n",
    "offlines"
   ]
  },
  {
   "cell_type": "code",
   "execution_count": 27,
   "metadata": {},
   "outputs": [
    {
     "data": {
      "text/plain": [
       "['192.168.0.1', '192.168.0.4', '192.168.0.5']"
      ]
     },
     "execution_count": 27,
     "metadata": {},
     "output_type": "execute_result"
    }
   ],
   "source": [
    "no_off = re.findall(r'\\w+(?<!offline)\\s+(\\d+\\.\\d+\\.\\d+\\.\\d+)\\s+\\w+\\s+', texto, re.I)\n",
    "\n",
    "no_off"
   ]
  }
 ],
 "metadata": {
  "interpreter": {
   "hash": "4e7e4edc79d43486975e43ffb9f70caa5d73df88ab12157b795d6266fbee6759"
  },
  "kernelspec": {
   "display_name": "Python 3.9.7 64-bit ('base': conda)",
   "language": "python",
   "name": "python3"
  },
  "language_info": {
   "codemirror_mode": {
    "name": "ipython",
    "version": 3
   },
   "file_extension": ".py",
   "mimetype": "text/x-python",
   "name": "python",
   "nbconvert_exporter": "python",
   "pygments_lexer": "ipython3",
   "version": "3.9.7"
  },
  "orig_nbformat": 4
 },
 "nbformat": 4,
 "nbformat_minor": 2
}

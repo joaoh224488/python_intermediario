{
 "cells": [
  {
   "cell_type": "code",
   "execution_count": 1,
   "metadata": {},
   "outputs": [],
   "source": [
    "import re"
   ]
  },
  {
   "cell_type": "markdown",
   "metadata": {},
   "source": [
    "## Shorthands e flags de expresssões regulares:\n",
    "\n",
    "<p> OBS: É importante ler a documentação para ver outros shorthands e flags. Mas algumas destacáveis estão neste notebook</p>\n",
    "<br>\n",
    "<p> OBSII: O range [À-ú] compreende todos os caracteres com acento"
   ]
  },
  {
   "cell_type": "code",
   "execution_count": 19,
   "metadata": {},
   "outputs": [
    {
     "name": "stdout",
     "output_type": "stream",
     "text": [
      "['João', 'trouxe', 'flores', 'para', 'sua', 'amada', 'namorada', 'em', '10', 'de', 'janeiro', 'de', '1970', 'Maria', 'era', 'o', 'nome', 'dela', 'Foi', 'um', 'ano', 'excelente', 'na', 'vida', 'de', 'joão', 'Teve', 'ALGO', '5', 'filhos', 'todos', 'adultos', 'atualmente', 'maria', 'hoje', 'sua', 'esposa', 'ainda', 'faz', 'aquele', 'café', 'com', 'pão', 'de', 'queijo', 'nas', 'tardes', 'de', 'domingo', 'Também', 'né', 'Sendo', 'a', 'boa', 'mineira', 'que', 'é', 'nunca', 'esquece', 'seu', 'famoso', 'pão', 'de', 'queijo', 'Não', 'canso', 'de', 'ouvir', 'a', 'Maria', 'Joooooooooãooooooo', 'o', 'café', 'tá', 'prontinho', 'aqui', 'Veeemm']\n"
     ]
    }
   ],
   "source": [
    "texto = '''\n",
    "João trouxe    flores para sua amada namorada em 10 de janeiro de 1970,\n",
    "Maria era o nome dela.\n",
    "Foi um ano excelente na vida de joão. Teve_ALGO 5 filhos, todos adultos atualmente.\n",
    "maria, hoje sua esposa, ainda faz aquele café com pão de queijo nas tardes de\n",
    "domingo. Também né! Sendo a boa mineira que é, nunca esquece seu famoso\n",
    "pão de queijo.\n",
    "Não canso de ouvir a Maria:\n",
    "\"Joooooooooãooooooo, o café tá prontinho aqui. Veeemm\"!\n",
    "'''\n",
    "\n",
    "palavras = re.findall(r'[a-z0-9À-ú]+', texto, flags=re.I)\n",
    "\n",
    "print(palavras)\n"
   ]
  },
  {
   "cell_type": "code",
   "execution_count": 3,
   "metadata": {},
   "outputs": [
    {
     "name": "stdout",
     "output_type": "stream",
     "text": [
      "['João', 'trouxe', 'flores', 'para', 'sua', 'amada', 'namorada', 'em', '10', 'de', 'janeiro', 'de', '1970', 'Maria', 'era', 'o', 'nome', 'dela', 'Foi', 'um', 'ano', 'excelente', 'na', 'vida', 'de', 'joão', 'Teve_ALGO', '5', 'filhos', 'todos', 'adultos', 'atualmente', 'maria', 'hoje', 'sua', 'esposa', 'ainda', 'faz', 'aquele', 'café', 'com', 'pão', 'de', 'queijo', 'nas', 'tardes', 'de', 'domingo', 'Também', 'né', 'Sendo', 'a', 'boa', 'mineira', 'que', 'é', 'nunca', 'esquece', 'seu', 'famoso', 'pão', 'de', 'queijo', 'Não', 'canso', 'de', 'ouvir', 'a', 'Maria', 'Joooooooooãooooooo', 'o', 'café', 'tá', 'prontinho', 'aqui', 'Veeemm']\n"
     ]
    }
   ],
   "source": [
    "# Para fazer a mesma coisa só que usando os shorthands:\n",
    "\n",
    "palavras = re.findall(r'\\w+', texto)\n",
    "\n",
    "# \\w é equivalente a [a-z0-9À-ú_], re.I\n",
    "\n",
    "print(palavras)"
   ]
  },
  {
   "cell_type": "code",
   "execution_count": 4,
   "metadata": {},
   "outputs": [
    {
     "name": "stdout",
     "output_type": "stream",
     "text": [
      "['Jo', 'o', 'trouxe', 'flores', 'para', 'sua', 'amada', 'namorada', 'em', '10', 'de', 'janeiro', 'de', '1970', 'Maria', 'era', 'o', 'nome', 'dela', 'Foi', 'um', 'ano', 'excelente', 'na', 'vida', 'de', 'jo', 'o', 'Teve_ALGO', '5', 'filhos', 'todos', 'adultos', 'atualmente', 'maria', 'hoje', 'sua', 'esposa', 'ainda', 'faz', 'aquele', 'caf', 'com', 'p', 'o', 'de', 'queijo', 'nas', 'tardes', 'de', 'domingo', 'Tamb', 'm', 'n', 'Sendo', 'a', 'boa', 'mineira', 'que', 'nunca', 'esquece', 'seu', 'famoso', 'p', 'o', 'de', 'queijo', 'N', 'o', 'canso', 'de', 'ouvir', 'a', 'Maria', 'Jooooooooo', 'ooooooo', 'o', 'caf', 't', 'prontinho', 'aqui', 'Veeemm']\n"
     ]
    }
   ],
   "source": [
    "# Se você só estiver interessado em elementos da tabela ASCII:\n",
    "\n",
    "el_asc = re.findall(r'\\w+', texto, flags= re.A)\n",
    "\n",
    "# \\w , flags = re.A é equivalente a [a-z0-9_], re.I\n",
    "\n",
    "print(el_asc)"
   ]
  },
  {
   "cell_type": "markdown",
   "metadata": {},
   "source": [
    "<p>OBS: Nos shorthands as letras minúsculas acham uma determinada coisa e as letras maiúsculas negam essa coisa</p>\n",
    "<p>\\letra_qualquer = [conjunto]</p>\n",
    "<p>\\LETRA_QUALQUER = [^conjunto]    Negação do conjunto</p> "
   ]
  },
  {
   "cell_type": "code",
   "execution_count": 5,
   "metadata": {},
   "outputs": [
    {
     "name": "stdout",
     "output_type": "stream",
     "text": [
      "['\\n', ' ', '    ', ' ', ' ', ' ', ' ', ' ', ' ', ' ', ' ', ' ', ' ', ',\\n', ' ', ' ', ' ', ' ', '.\\n', ' ', ' ', ' ', ' ', ' ', ' ', ' ', '. ', ' ', ' ', ', ', ' ', ' ', '.\\n', ', ', ' ', ' ', ', ', ' ', ' ', ' ', ' ', ' ', ' ', ' ', ' ', ' ', ' ', '\\n', '. ', ' ', '! ', ' ', ' ', ' ', ' ', ' ', ', ', ' ', ' ', ' ', '\\n', ' ', ' ', '.\\n', ' ', ' ', ' ', ' ', ' ', ':\\n\"', ', ', ' ', ' ', ' ', ' ', '. ', '\"!\\n']\n"
     ]
    }
   ],
   "source": [
    "nao_letras = re.findall(r'\\W+', texto)\n",
    "\n",
    "print(nao_letras)"
   ]
  },
  {
   "cell_type": "code",
   "execution_count": 6,
   "metadata": {},
   "outputs": [
    {
     "name": "stdout",
     "output_type": "stream",
     "text": [
      "['\\n', 'ã', ' ', '    ', ' ', ' ', ' ', ' ', ' ', ' ', ' ', ' ', ' ', ' ', ',\\n', ' ', ' ', ' ', ' ', '.\\n', ' ', ' ', ' ', ' ', ' ', ' ', ' ', 'ã', '. ', ' ', ' ', ', ', ' ', ' ', '.\\n', ', ', ' ', ' ', ', ', ' ', ' ', ' ', 'é ', ' ', 'ã', ' ', ' ', ' ', ' ', ' ', '\\n', '. ', 'é', ' ', 'é! ', ' ', ' ', ' ', ' ', ' é, ', ' ', ' ', ' ', '\\n', 'ã', ' ', ' ', '.\\n', 'ã', ' ', ' ', ' ', ' ', ' ', ':\\n\"', 'ã', ', ', ' ', 'é ', 'á ', ' ', '. ', '\"!\\n']\n"
     ]
    }
   ],
   "source": [
    "nao_ascii = re.findall(r'\\W+', texto, re.A)\n",
    "\n",
    "print(nao_ascii) # Tudo o que não é da tabela ASCII"
   ]
  },
  {
   "cell_type": "code",
   "execution_count": 7,
   "metadata": {},
   "outputs": [
    {
     "data": {
      "text/plain": [
       "['10', '1970', '5']"
      ]
     },
     "execution_count": 7,
     "metadata": {},
     "output_type": "execute_result"
    }
   ],
   "source": [
    "# \\d : [0-9]\n",
    "# \\d : [^0-9]\n",
    "\n",
    "numeros = re.findall(r'\\d+', texto)\n",
    "\n",
    "numeros"
   ]
  },
  {
   "cell_type": "code",
   "execution_count": 8,
   "metadata": {},
   "outputs": [
    {
     "data": {
      "text/plain": [
       "['\\nJoão trouxe    flores para sua amada namorada em ',\n",
       " ' de janeiro de ',\n",
       " ',\\nMaria era o nome dela.\\nFoi um ano excelente na vida de joão. Teve_ALGO ',\n",
       " ' filhos, todos adultos atualmente.\\nmaria, hoje sua esposa, ainda faz aquele café com pão de queijo nas tardes de\\ndomingo. Também né! Sendo a boa mineira que é, nunca esquece seu famoso\\npão de queijo.\\nNão canso de ouvir a Maria:\\n\"Joooooooooãooooooo, o café tá prontinho aqui. Veeemm\"!\\n']"
      ]
     },
     "execution_count": 8,
     "metadata": {},
     "output_type": "execute_result"
    }
   ],
   "source": [
    "n_numeros = re.findall(r'\\D+', texto)\n",
    "n_numeros"
   ]
  },
  {
   "cell_type": "code",
   "execution_count": 9,
   "metadata": {},
   "outputs": [
    {
     "name": "stdout",
     "output_type": "stream",
     "text": [
      "['\\n', ' ', '    ', ' ', ' ', ' ', ' ', ' ', ' ', ' ', ' ', ' ', ' ', '\\n', ' ', ' ', ' ', ' ', '\\n', ' ', ' ', ' ', ' ', ' ', ' ', ' ', ' ', ' ', ' ', ' ', ' ', ' ', '\\n', ' ', ' ', ' ', ' ', ' ', ' ', ' ', ' ', ' ', ' ', ' ', ' ', ' ', ' ', '\\n', ' ', ' ', ' ', ' ', ' ', ' ', ' ', ' ', ' ', ' ', ' ', ' ', '\\n', ' ', ' ', '\\n', ' ', ' ', ' ', ' ', ' ', '\\n', ' ', ' ', ' ', ' ', ' ', ' ', '\\n']\n"
     ]
    }
   ],
   "source": [
    "# \\s : espaços em brancos, recuo, tabulação, entre outros.\n",
    "# Tags como [\\n, \\r, \\f, \\t]\n",
    "\n",
    "blank_space = re.findall(r'\\s+', texto)\n",
    "\n",
    "print(blank_space)"
   ]
  },
  {
   "cell_type": "code",
   "execution_count": 10,
   "metadata": {},
   "outputs": [
    {
     "name": "stdout",
     "output_type": "stream",
     "text": [
      "['João', 'trouxe', 'flores', 'para', 'sua', 'amada', 'namorada', 'em', '10', 'de', 'janeiro', 'de', '1970,', 'Maria', 'era', 'o', 'nome', 'dela.', 'Foi', 'um', 'ano', 'excelente', 'na', 'vida', 'de', 'joão.', 'Teve_ALGO', '5', 'filhos,', 'todos', 'adultos', 'atualmente.', 'maria,', 'hoje', 'sua', 'esposa,', 'ainda', 'faz', 'aquele', 'café', 'com', 'pão', 'de', 'queijo', 'nas', 'tardes', 'de', 'domingo.', 'Também', 'né!', 'Sendo', 'a', 'boa', 'mineira', 'que', 'é,', 'nunca', 'esquece', 'seu', 'famoso', 'pão', 'de', 'queijo.', 'Não', 'canso', 'de', 'ouvir', 'a', 'Maria:', '\"Joooooooooãooooooo,', 'o', 'café', 'tá', 'prontinho', 'aqui.', 'Veeemm\"!']\n"
     ]
    }
   ],
   "source": [
    "no_blank = re.findall(r'\\S+', texto)\n",
    "\n",
    "print(no_blank)"
   ]
  },
  {
   "cell_type": "code",
   "execution_count": 16,
   "metadata": {},
   "outputs": [
    {
     "data": {
      "text/plain": [
       "['flores']"
      ]
     },
     "execution_count": 16,
     "metadata": {},
     "output_type": "execute_result"
    }
   ],
   "source": [
    "# \\b encontra uma string em algum ponto da string a partir de uma 'borda'. Uma string vazia no começo da palavra\n",
    "\n",
    "# Encontrar todas as strings que começam com flo\n",
    "\n",
    "flo = re.findall(r'\\bflo\\w+', texto, flags= re.I)\n",
    "\n",
    "flo"
   ]
  },
  {
   "cell_type": "code",
   "execution_count": 22,
   "metadata": {},
   "outputs": [
    {
     "data": {
      "text/plain": [
       "['em', 'era', 'excelente', 'esposa', 'esquece']"
      ]
     },
     "execution_count": 22,
     "metadata": {},
     "output_type": "execute_result"
    }
   ],
   "source": [
    "com_e = re.findall(r'\\be\\w+', texto, flags= re.I) # palavras que começam com 'Ee'\n",
    "\n",
    "com_e"
   ]
  },
  {
   "cell_type": "code",
   "execution_count": 24,
   "metadata": {},
   "outputs": [
    {
     "name": "stdout",
     "output_type": "stream",
     "text": [
      "['trouxe', 'de', 'de', 'nome', 'excelente', 'de', 'atualmente', 'hoje', 'aquele', 'de', 'de', 'que', 'esquece', 'de', 'de']\n"
     ]
    }
   ],
   "source": [
    "ter_e = re.findall(r'\\w+e\\b', texto, flags= re.I) # palavras que terminam com 'Ee'\n",
    "\n",
    "print(ter_e)"
   ]
  },
  {
   "cell_type": "code",
   "execution_count": 27,
   "metadata": {},
   "outputs": [
    {
     "name": "stdout",
     "output_type": "stream",
     "text": [
      "['João', 'para', '1970', 'nome', 'dela', 'vida', 'joão', 'hoje', 'café', 'café', 'aqui']\n"
     ]
    }
   ],
   "source": [
    "quatro_letras = re.findall(r'\\b\\w{4}\\b', texto)\n",
    "\n",
    "#note que precisa haver uma borda(string vazia) no início e no final para separar a palavra\n",
    "\n",
    "print(quatro_letras)"
   ]
  },
  {
   "cell_type": "code",
   "execution_count": 29,
   "metadata": {},
   "outputs": [
    {
     "name": "stdout",
     "output_type": "stream",
     "text": [
      "['João', 'trou', 'flor', 'para', 'amad', 'namo', 'jane', '1970', 'Mari', 'nome', 'dela', 'exce', 'vida', 'joão', 'Teve', 'filh', 'todo', 'adul', 'atua', 'mari', 'hoje', 'espo', 'aind', 'aque', 'café', 'quei', 'tard', 'domi', 'Tamb', 'Send', 'mine', 'nunc', 'esqu', 'famo', 'quei', 'cans', 'ouvi', 'Mari', 'Jooo', 'café', 'pron', 'aqui', 'Veee']\n"
     ]
    }
   ],
   "source": [
    "# sem a borda, ele vai pagar palavras de quatro em quatro caracteres pulando as bordas\n",
    "\n",
    "letras_em_quatro = re.findall(r'\\b\\w{4}', texto)\n",
    "\n",
    "print(letras_em_quatro)"
   ]
  },
  {
   "cell_type": "markdown",
   "metadata": {},
   "source": [
    "### Flags re.M e re.S:\n",
    "\n",
    "Usadas com os caracteres ^ e $"
   ]
  },
  {
   "cell_type": "code",
   "execution_count": 30,
   "metadata": {},
   "outputs": [],
   "source": [
    "texto = '''\n",
    "131.768.460-53\n",
    "055.123.060-50\n",
    "955.123.060-90\n",
    "'''"
   ]
  },
  {
   "cell_type": "code",
   "execution_count": 37,
   "metadata": {},
   "outputs": [
    {
     "data": {
      "text/plain": [
       "[]"
      ]
     },
     "execution_count": 37,
     "metadata": {},
     "output_type": "execute_result"
    }
   ],
   "source": [
    "# re.M serve para ler as strings linha a linha\n",
    "# Digamos que \n",
    "cpfs = re.findall(r'^\\d{3}\\.\\d{3}\\.\\d{3}-\\d{2}$', texto)\n",
    "\n",
    "cpfs\n",
    "\n",
    "# Quando usamos a validação de dados do re_basic3 na string texto com os CPFs ela dá errado\n",
    "# o motivo pra isso é que essa string começa com \\n, e não com um número\n",
    "# Para resolver isso, podemos ler as strings de CPF linha a linha"
   ]
  },
  {
   "cell_type": "code",
   "execution_count": 38,
   "metadata": {},
   "outputs": [
    {
     "data": {
      "text/plain": [
       "['131.768.460-53', '055.123.060-50', '955.123.060-90']"
      ]
     },
     "execution_count": 38,
     "metadata": {},
     "output_type": "execute_result"
    }
   ],
   "source": [
    "cpfs = re.findall(r'^\\d{3}\\.\\d{3}\\.\\d{3}-\\d{2}$', texto, re.M)\n",
    "\n",
    "cpfs"
   ]
  },
  {
   "cell_type": "code",
   "execution_count": 39,
   "metadata": {},
   "outputs": [
    {
     "data": {
      "text/plain": [
       "['055.123.060-50', '955.123.060-90']"
      ]
     },
     "execution_count": 39,
     "metadata": {},
     "output_type": "execute_result"
    }
   ],
   "source": [
    "# Caso a entrada seja inválida, ele só devolve os CPFs válidos\n",
    "texto = '''\n",
    "131.768.460-53 a\n",
    "055.123.060-50\n",
    "955.123.060-90\n",
    "'''\n",
    "cpfs = re.findall(r'^\\d{3}\\.\\d{3}\\.\\d{3}-\\d{2}$', texto, re.M)\n",
    "cpfs"
   ]
  },
  {
   "cell_type": "code",
   "execution_count": 57,
   "metadata": {},
   "outputs": [
    {
     "data": {
      "text/plain": [
       "[]"
      ]
     },
     "execution_count": 57,
     "metadata": {},
     "output_type": "execute_result"
    }
   ],
   "source": [
    "# flag re.S : Equivale a ler DOTALL(a string toda do início ao fim)\n",
    "\n",
    "frase = '''O João gosta de ler\n",
    "e de falar sobre mato'''\n",
    "\n",
    "cto = re.findall(r'^o.*o$', frase, re.I) # começa e termina com 'Oo'\n",
    "cto"
   ]
  },
  {
   "cell_type": "code",
   "execution_count": 58,
   "metadata": {},
   "outputs": [
    {
     "name": "stdout",
     "output_type": "stream",
     "text": [
      "['O João gosta de ler\\ne de falar sobre mato']\n"
     ]
    }
   ],
   "source": [
    "# Não retornou nada porque ele diferenciou as strings por causa da quebra de linha\n",
    "# para ler tudo e incluir a quebra de linha na string geral:\n",
    "\n",
    "cto = re.findall(r'^o.*o$', frase, re.I | re.S) # começa e termina com 'Oo'\n",
    "print(cto)"
   ]
  }
 ],
 "metadata": {
  "interpreter": {
   "hash": "4e7e4edc79d43486975e43ffb9f70caa5d73df88ab12157b795d6266fbee6759"
  },
  "kernelspec": {
   "display_name": "Python 3.9.7 64-bit ('base': conda)",
   "language": "python",
   "name": "python3"
  },
  "language_info": {
   "codemirror_mode": {
    "name": "ipython",
    "version": 3
   },
   "file_extension": ".py",
   "mimetype": "text/x-python",
   "name": "python",
   "nbconvert_exporter": "python",
   "pygments_lexer": "ipython3",
   "version": "3.9.7"
  },
  "orig_nbformat": 4
 },
 "nbformat": 4,
 "nbformat_minor": 2
}

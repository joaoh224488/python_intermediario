{
 "cells": [
  {
   "cell_type": "code",
   "execution_count": 9,
   "metadata": {},
   "outputs": [],
   "source": [
    "import re"
   ]
  },
  {
   "cell_type": "markdown",
   "metadata": {},
   "source": [
    "### Grupos e retrovisores\n"
   ]
  },
  {
   "cell_type": "code",
   "execution_count": 17,
   "metadata": {},
   "outputs": [
    {
     "name": "stdout",
     "output_type": "stream",
     "text": [
      "['p', 'p', 'p', 'div']\n"
     ]
    }
   ],
   "source": [
    "# Grupos () funcionam de forma similar aos conjuntos []\n",
    "# Mas os grupos são específicos. Enquanto nos conjuntos quando está escrito [abc]\n",
    "# o interpretador procura as strings 'a', 'b' e 'c' e qualquer combinação entre elas\n",
    "# 'cba', 'ab' etc.\n",
    "\n",
    "# Nos grupos, a entrada [abc] só retorna algo se na string tiver um 'abc' nessa ordem\n",
    "# É possível pedir mais de um conjunto nos grupos. Ex:\n",
    "\n",
    "texto = '''\n",
    "<p>Frase 1</p> <p>Eita</p> <p>Qualquer frase</p> <div></div> \n",
    "'''\n",
    "\n",
    "tags = re.findall(r'<(p|div){1,3}>.*?<\\/\\1>', texto)\n",
    "\n",
    "print(tags)\n",
    "\n",
    "# OBS: Os grupos ficam salvos na memória o primeiro grupo será o grupo \\1\n",
    "# Esse \\1 na nomenclatura de expressão regular é chamado de RETROVISOR\n",
    "\n",
    "# Quando criamos o primeiro grupo (p|div) esse será o retrovisor \\1, se criarmos um segundo grupo\n",
    "# (exemplo) ele será referenciado como \\2 e assim sucessivamente.\n",
    "\n",
    "\n",
    "# Quando criamos um grupo dentro do outro:\n",
    "# (()) O de fora é \\1 e o de dentro é \\2"
   ]
  },
  {
   "cell_type": "markdown",
   "metadata": {},
   "source": [
    "<p>Observe que quando usamos grupos com o findall ele retorna apenas o conteúdo do grupo <div> Para resolver isso:</div></p>"
   ]
  },
  {
   "cell_type": "code",
   "execution_count": 20,
   "metadata": {},
   "outputs": [
    {
     "data": {
      "text/plain": [
       "['<p>Frase 1</p>', '<p>Eita</p>', '<p>Qualquer frase</p>', '<div></div>']"
      ]
     },
     "execution_count": 20,
     "metadata": {},
     "output_type": "execute_result"
    }
   ],
   "source": [
    "tags = re.findall(r'(<[pdiv]{1,3}>.*?<\\/[pdiv]{1,3}>)', texto)\n",
    "tags"
   ]
  },
  {
   "cell_type": "code",
   "execution_count": 21,
   "metadata": {},
   "outputs": [
    {
     "data": {
      "text/plain": [
       "[('<p>Frase 1</p>', 'p'),\n",
       " ('<p>Eita</p>', 'p'),\n",
       " ('<p>Qualquer frase</p>', 'p'),\n",
       " ('<div></div>', 'div')]"
      ]
     },
     "execution_count": 21,
     "metadata": {},
     "output_type": "execute_result"
    }
   ],
   "source": [
    "# Para resolver isso e obter os índices de cada grupo:\n",
    "\n",
    "tags = re.findall(r'(<([pdiv]{1,3})>.*?<\\/\\2>)', texto)\n",
    "tags"
   ]
  },
  {
   "cell_type": "code",
   "execution_count": 22,
   "metadata": {},
   "outputs": [
    {
     "name": "stdout",
     "output_type": "stream",
     "text": [
      "[('<p>Frase 1</p>', 'p'),\n",
      " ('<p>Eita</p>', 'p'),\n",
      " ('<p>Qualquer frase</p>', 'p'),\n",
      " ('<div></div>', 'div')]\n"
     ]
    }
   ],
   "source": [
    "# Forma mais bonitinha de printar:\n",
    "from pprint import pprint\n",
    "pprint(tags)"
   ]
  },
  {
   "cell_type": "code",
   "execution_count": 23,
   "metadata": {},
   "outputs": [
    {
     "data": {
      "text/plain": [
       "[('<p>Frase 1</p>', 'p', 'Frase 1'),\n",
       " ('<p>Eita</p>', 'p', 'Eita'),\n",
       " ('<p>Qualquer frase</p>', 'p', 'Qualquer frase'),\n",
       " ('<div></div>', 'div', '')]"
      ]
     },
     "execution_count": 23,
     "metadata": {},
     "output_type": "execute_result"
    }
   ],
   "source": [
    "# Para ter acesso apenas aos conteúdos das tags HTML:\n",
    "\n",
    "tags = re.findall(r'(<([pdiv]{1,3})>(.*?)<\\/\\2>)', texto)\n",
    "tags"
   ]
  },
  {
   "cell_type": "code",
   "execution_count": 24,
   "metadata": {},
   "outputs": [
    {
     "name": "stdout",
     "output_type": "stream",
     "text": [
      "Frase 1\n",
      "Eita\n",
      "Qualquer frase\n",
      "\n"
     ]
    }
   ],
   "source": [
    "for tag in tags:\n",
    "    completa_tag, tg , conteudo = tag\n",
    "    print(conteudo)"
   ]
  },
  {
   "cell_type": "code",
   "execution_count": 25,
   "metadata": {},
   "outputs": [
    {
     "data": {
      "text/plain": [
       "[('p', 'Frase 1'), ('p', 'Eita'), ('p', 'Qualquer frase'), ('div', '')]"
      ]
     },
     "execution_count": 25,
     "metadata": {},
     "output_type": "execute_result"
    }
   ],
   "source": [
    "# Se quisermos apenas as tags e os conteúdos organizados nas tuplas:\n",
    "\n",
    "tags = re.findall(r'<([pdiv]{1,3})>(.*?)<\\/\\1>', texto)\n",
    "tags"
   ]
  },
  {
   "cell_type": "code",
   "execution_count": 26,
   "metadata": {},
   "outputs": [
    {
     "data": {
      "text/plain": [
       "['p', 'p', 'p', 'div']"
      ]
     },
     "execution_count": 26,
     "metadata": {},
     "output_type": "execute_result"
    }
   ],
   "source": [
    "# Se quisermos excluir o conteúdo da tag do grupo mas manter o segundo grupo na expressão regular\n",
    "# basta usar o ?: antes do grupo\n",
    "tags = re.findall(r'<([pdiv]{1,3})>(?:.*?)<\\/\\1>', texto)\n",
    "tags"
   ]
  },
  {
   "cell_type": "code",
   "execution_count": 31,
   "metadata": {},
   "outputs": [
    {
     "data": {
      "text/plain": [
       "['852.']"
      ]
     },
     "execution_count": 31,
     "metadata": {},
     "output_type": "execute_result"
    }
   ],
   "source": [
    "# Exemplo de porque isso existe:\n",
    "\n",
    "cpf = '147.852.963-12'\n",
    "\n",
    "st_cpf = re.findall(r'([0-9]{3}\\.){2}[0-9]{3}-[0-9]{2}', cpf)\n",
    "st_cpf"
   ]
  },
  {
   "cell_type": "code",
   "execution_count": 33,
   "metadata": {},
   "outputs": [
    {
     "data": {
      "text/plain": [
       "[('147.852.963-12', '852.')]"
      ]
     },
     "execution_count": 33,
     "metadata": {},
     "output_type": "execute_result"
    }
   ],
   "source": [
    "# Ao criar o grupo anterior, o findall retornou apenas o grupo.\n",
    "# E retornou apenas o último grupo lido.\n",
    "# Para resolver esse problema, devemos envolver toda a expressão regular em um grupo:\n",
    "st_cpf = re.findall(r'(([0-9]{3}\\.){2}[0-9]{3}-[0-9]{2})', cpf)\n",
    "st_cpf"
   ]
  },
  {
   "cell_type": "code",
   "execution_count": 34,
   "metadata": {},
   "outputs": [
    {
     "data": {
      "text/plain": [
       "['147.852.963-12']"
      ]
     },
     "execution_count": 34,
     "metadata": {},
     "output_type": "execute_result"
    }
   ],
   "source": [
    "# Perceba que essa '852.' na tupla não interessa.\n",
    "# Para se livrar dele:\n",
    "\n",
    "st_cpf = re.findall(r'((?:[0-9]{3}\\.){2}[0-9]{3}-[0-9]{2})', cpf)\n",
    "st_cpf"
   ]
  },
  {
   "cell_type": "code",
   "execution_count": 40,
   "metadata": {},
   "outputs": [
    {
     "data": {
      "text/plain": [
       "[('p', 'Frase 1'), ('p', 'Eita'), ('p', 'Qualquer frase'), ('div', '')]"
      ]
     },
     "execution_count": 40,
     "metadata": {},
     "output_type": "execute_result"
    }
   ],
   "source": [
    "# Para nomear um grupo:\n",
    "# Nomeia ao lado da abertura de parentesis (?P<exemplo>\n",
    "# Referencia como (?P=exemplo)\n",
    "tags = re.findall(r'<(?P<tag>[pdiv]{1,3})>(.*?)<\\/(?P=tag)>', texto)\n",
    "tags"
   ]
  },
  {
   "cell_type": "code",
   "execution_count": 48,
   "metadata": {},
   "outputs": [
    {
     "name": "stdout",
     "output_type": "stream",
     "text": [
      "\n",
      "<p> \"Frase 1\" </p> <p> \"Eita\" </p> <p> \"Qualquer frase\" </p> <div> \"\" </div> \n",
      "\n"
     ]
    }
   ],
   "source": [
    "# Para fazer alterações em uma variável com sub usando grupos:\n",
    "# A substituição foi adicionar espaços nas tags e colocar o conteúdo entre aspas \"\"\n",
    "texto = '''\n",
    "<p>Frase 1</p> <p>Eita</p> <p>Qualquer frase</p> <div></div> \n",
    "'''\n",
    "\n",
    "novo = re.sub(r'(<(.*?)>)(.*?)(<\\/\\2>)', r'\\1 \"\\3\" \\4', texto)\n",
    "\n",
    "print(novo)"
   ]
  }
 ],
 "metadata": {
  "interpreter": {
   "hash": "4e7e4edc79d43486975e43ffb9f70caa5d73df88ab12157b795d6266fbee6759"
  },
  "kernelspec": {
   "display_name": "Python 3.9.7 64-bit ('base': conda)",
   "language": "python",
   "name": "python3"
  },
  "language_info": {
   "codemirror_mode": {
    "name": "ipython",
    "version": 3
   },
   "file_extension": ".py",
   "mimetype": "text/x-python",
   "name": "python",
   "nbconvert_exporter": "python",
   "pygments_lexer": "ipython3",
   "version": "3.9.7"
  },
  "orig_nbformat": 4
 },
 "nbformat": 4,
 "nbformat_minor": 2
}

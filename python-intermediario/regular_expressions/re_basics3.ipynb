{
 "cells": [
  {
   "cell_type": "code",
   "execution_count": 21,
   "metadata": {},
   "outputs": [],
   "source": [
    "import re"
   ]
  },
  {
   "cell_type": "markdown",
   "metadata": {},
   "source": [
    "### Meta caracteres:\n",
    "\n",
    "^ --> começa com;\n",
    "$ -- termina com"
   ]
  },
  {
   "cell_type": "code",
   "execution_count": 22,
   "metadata": {},
   "outputs": [
    {
     "data": {
      "text/plain": [
       "['147.852.963-12']"
      ]
     },
     "execution_count": 22,
     "metadata": {},
     "output_type": "execute_result"
    }
   ],
   "source": [
    "cpf = ' aa  a a147.852.963-12    bbbbbb'\n",
    "\n",
    "st_cpf = re.findall(r'((?:[0-9]{3}\\.){2}[0-9]{3}-[0-9]{2})', cpf)\n",
    "\n",
    "st_cpf\n",
    "\n",
    "# Perceba que, no exemplo, mesmo quando a string vem errada os dados da expressão regular\n",
    "# são validados. O que pode ser problemático em um cenário hipotético onde, por exemplo,\n",
    "# seja necessário fazer uma validação de dados onde não seja interessante pegar essa string inteira"
   ]
  },
  {
   "cell_type": "code",
   "execution_count": 23,
   "metadata": {},
   "outputs": [
    {
     "data": {
      "text/plain": [
       "[]"
      ]
     },
     "execution_count": 23,
     "metadata": {},
     "output_type": "execute_result"
    }
   ],
   "source": [
    "# Usando o ^: \n",
    "\n",
    "cpf = ' aa  a a147.852.963-12    bbbbbb'\n",
    "\n",
    "st_cpf = re.findall(r'^((?:[0-9]{3}\\.){2}[0-9]{3}-[0-9]{2})', cpf)\n",
    "\n",
    "st_cpf\n"
   ]
  },
  {
   "cell_type": "code",
   "execution_count": 24,
   "metadata": {},
   "outputs": [
    {
     "data": {
      "text/plain": [
       "['147.852.963-12']"
      ]
     },
     "execution_count": 24,
     "metadata": {},
     "output_type": "execute_result"
    }
   ],
   "source": [
    "# Não retorna nada na lista. Porém, veja o seguinte exemplo:\n",
    "cpf = '147.852.963-12    bbbbbb'\n",
    "\n",
    "st_cpf = re.findall(r'^((?:[0-9]{3}\\.){2}[0-9]{3}-[0-9]{2})', cpf)\n",
    "\n",
    "st_cpf"
   ]
  },
  {
   "cell_type": "code",
   "execution_count": 25,
   "metadata": {},
   "outputs": [
    {
     "data": {
      "text/plain": [
       "[]"
      ]
     },
     "execution_count": 25,
     "metadata": {},
     "output_type": "execute_result"
    }
   ],
   "source": [
    "# Validou porque o caractere só observa o início da string.\n",
    "# Para não validar, usa-se o $:\n",
    "\n",
    "cpf = '147.852.963-12    bbbbbb'\n",
    "\n",
    "st_cpf = re.findall(r'^((?:[0-9]{3}\\.){2}[0-9]{3}-[0-9]{2})$', cpf)\n",
    "\n",
    "st_cpf"
   ]
  },
  {
   "cell_type": "code",
   "execution_count": 26,
   "metadata": {},
   "outputs": [
    {
     "data": {
      "text/plain": [
       "['147.852.963-12']"
      ]
     },
     "execution_count": 26,
     "metadata": {},
     "output_type": "execute_result"
    }
   ],
   "source": [
    "# Agora só valida se a entrada for igual à desejada.\n",
    "cpf = '147.852.963-12'\n",
    "\n",
    "st_cpf = re.findall(r'^((?:[0-9]{3}\\.){2}[0-9]{3}-[0-9]{2})$', cpf)\n",
    "\n",
    "st_cpf"
   ]
  },
  {
   "cell_type": "markdown",
   "metadata": {},
   "source": [
    "<p>O carectere ^ usado na frente de um conjunto serve como negação:</p>\n",
    "\n",
    "* [^a-z] : Não retornar qualquer caractere de a-z no início; \n",
    "* [^a-z]+ : Não retornar qualquer caractere de a-z em ponto nenhum da string;\n",
    "* [^0-9]+ : Não retornar números em nenhum ponto da string.\n",
    "\n",
    "\n",
    "<p> De forma geral: <div>[^conteúdo qualquer]: Não retornar o conjunto que você coloca depois do ^ </div></p>"
   ]
  },
  {
   "cell_type": "code",
   "execution_count": 27,
   "metadata": {},
   "outputs": [
    {
     "data": {
      "text/plain": [
       "['.', '.', '-']"
      ]
     },
     "execution_count": 27,
     "metadata": {},
     "output_type": "execute_result"
    }
   ],
   "source": [
    "sem_num = re.findall(r'[^0-9]', cpf) # String cpf sem números\n",
    "\n",
    "sem_num"
   ]
  }
 ],
 "metadata": {
  "interpreter": {
   "hash": "4e7e4edc79d43486975e43ffb9f70caa5d73df88ab12157b795d6266fbee6759"
  },
  "kernelspec": {
   "display_name": "Python 3.9.7 64-bit ('base': conda)",
   "language": "python",
   "name": "python3"
  },
  "language_info": {
   "codemirror_mode": {
    "name": "ipython",
    "version": 3
   },
   "file_extension": ".py",
   "mimetype": "text/x-python",
   "name": "python",
   "nbconvert_exporter": "python",
   "pygments_lexer": "ipython3",
   "version": "3.9.7"
  },
  "orig_nbformat": 4
 },
 "nbformat": 4,
 "nbformat_minor": 2
}

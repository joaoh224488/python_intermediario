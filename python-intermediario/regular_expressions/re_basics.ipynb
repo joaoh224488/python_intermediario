{
 "cells": [
  {
   "cell_type": "code",
   "execution_count": 1,
   "metadata": {},
   "outputs": [],
   "source": [
    "# https://docs.python.org/3/library/re.html\n",
    "# https://docs.python.org/3/howto/regex.html#regex-howto\n",
    "import re"
   ]
  },
  {
   "cell_type": "markdown",
   "metadata": {},
   "source": [
    "# Módulo re\n",
    "\n",
    "O módulo regular expressions serve para verificar padrões em strings e manipular as strings a partir desses padrões."
   ]
  },
  {
   "cell_type": "markdown",
   "metadata": {},
   "source": [
    "### search e findall"
   ]
  },
  {
   "cell_type": "code",
   "execution_count": 2,
   "metadata": {},
   "outputs": [
    {
     "name": "stdout",
     "output_type": "stream",
     "text": [
      "<re.Match object; span=(0, 5), match='Teste'>\n"
     ]
    }
   ],
   "source": [
    "string = 'Teste de expressões regulares.'\n",
    "\n",
    "print(re.search(r'Teste', string)) # lembre sempre do r\n",
    "# retorna a primeira ocorrẽncia da expressão regular dentro da string dentro desse objeto"
   ]
  },
  {
   "cell_type": "code",
   "execution_count": 3,
   "metadata": {},
   "outputs": [
    {
     "name": "stdout",
     "output_type": "stream",
     "text": [
      "['teste', 'teste', 'teste']\n"
     ]
    }
   ],
   "source": [
    "ns = 'teste, teste, estou fazendo um teste'\n",
    "\n",
    "print(re.findall(r'teste', ns))\n",
    "\n",
    "# retorna uma lista com a regular expression"
   ]
  },
  {
   "cell_type": "markdown",
   "metadata": {},
   "source": [
    "# sub\n",
    "Substitui a expressão regular por outra expressão"
   ]
  },
  {
   "cell_type": "code",
   "execution_count": 4,
   "metadata": {},
   "outputs": [
    {
     "name": "stdout",
     "output_type": "stream",
     "text": [
      "substituí, substituí, estou fazendo um substituí\n"
     ]
    }
   ],
   "source": [
    "ns = 'teste, teste, estou fazendo um teste'\n",
    "print(re.sub(r'teste', r'substituí', ns))\n",
    "\n",
    "# recebe três parâmatros. O primeiro é a regular expression, o segundo é a substituição e o terceiro é a string"
   ]
  },
  {
   "cell_type": "code",
   "execution_count": 5,
   "metadata": {},
   "outputs": [
    {
     "name": "stdout",
     "output_type": "stream",
     "text": [
      "substituí, substituí, estou fazendo um teste\n"
     ]
    }
   ],
   "source": [
    "ns = 'teste, teste, estou fazendo um teste'\n",
    "\n",
    "print(re.sub(r'teste', r'substituí', ns, count= 2))\n",
    "\n",
    "# pode receber um quarto parâmetro com o número regex que você deseja substituir"
   ]
  },
  {
   "cell_type": "markdown",
   "metadata": {},
   "source": [
    "### compiler\n",
    "<p> Escrever e compilar as expressões regulares pode, muitas vezes, ser trabalhoso tanto para o programador quanto para a máquina. Por isso, podemos escrever uma expressão regular e registrá-la no compiler. A partir disso, usar as funções do módulo como métodos para a regex armazenada em uma varíavel, manipulando apenas a string como parâmetro.</p>"
   ]
  },
  {
   "cell_type": "code",
   "execution_count": 6,
   "metadata": {},
   "outputs": [
    {
     "data": {
      "text/plain": [
       "<re.Match object; span=(0, 5), match='teste'>"
      ]
     },
     "execution_count": 6,
     "metadata": {},
     "output_type": "execute_result"
    }
   ],
   "source": [
    "ns = 'teste, teste, estou fazendo um teste'\n",
    "\n",
    "regex = re.compile(r'teste')\n",
    "\n",
    "regex.search(ns)"
   ]
  },
  {
   "cell_type": "code",
   "execution_count": 7,
   "metadata": {},
   "outputs": [
    {
     "data": {
      "text/plain": [
       "['teste', 'teste', 'teste']"
      ]
     },
     "execution_count": 7,
     "metadata": {},
     "output_type": "execute_result"
    }
   ],
   "source": [
    "regex.findall(ns)"
   ]
  },
  {
   "cell_type": "code",
   "execution_count": 8,
   "metadata": {},
   "outputs": [
    {
     "data": {
      "text/plain": [
       "'substituiu de novo, teste, estou fazendo um teste'"
      ]
     },
     "execution_count": 8,
     "metadata": {},
     "output_type": "execute_result"
    }
   ],
   "source": [
    "regex.sub('substituiu de novo', ns, count=1)"
   ]
  },
  {
   "cell_type": "markdown",
   "metadata": {},
   "source": [
    "## Metacarcteres:"
   ]
  },
  {
   "cell_type": "code",
   "execution_count": 9,
   "metadata": {},
   "outputs": [],
   "source": [
    "texto = '''\n",
    "João trouxe    flores para sua amada namorada em 10 de janeiro de 1970,\n",
    "Maria era o nome dela.\n",
    "Foi um ano excelente na vida de joão. Teve 5 filhos, todos adultos atualmente.\n",
    "maria, hoje sua esposa, ainda faz aquele café com pão de queijo nas tardes de\n",
    "domingo. Também né! Sendo a boa mineira que é, nunca esquece seu famoso\n",
    "pão de queijo.\n",
    "Não canso de ouvir a Maria:\n",
    "\"Joooooooooãooooooo, o café tá prontinho aqui. Veeemm\"!\n",
    "'''"
   ]
  },
  {
   "cell_type": "code",
   "execution_count": 10,
   "metadata": {},
   "outputs": [
    {
     "name": "stdout",
     "output_type": "stream",
     "text": [
      "['João', 'Maria', 'adultos', 'Maria']\n"
     ]
    }
   ],
   "source": [
    "# | : 'ou' equivalente ao 'or'\n",
    "\n",
    "print(re.findall(r'João|Maria|adultos', texto)) # segue a sequência da string que entra na função"
   ]
  },
  {
   "cell_type": "code",
   "execution_count": 11,
   "metadata": {},
   "outputs": [
    {
     "name": "stdout",
     "output_type": "stream",
     "text": [
      "['dia', 'Tia']\n"
     ]
    }
   ],
   "source": [
    "# . : 'qualquer caractere com exceção da quebra de linha'\n",
    "frase = 'Bom dia, Tia!'\n",
    "\n",
    "print(re.findall(r'.ia', frase))\n"
   ]
  },
  {
   "cell_type": "code",
   "execution_count": 12,
   "metadata": {},
   "outputs": [
    {
     "name": "stdout",
     "output_type": "stream",
     "text": [
      "['ada nam', 'ada em ', 'adultos']\n"
     ]
    }
   ],
   "source": [
    "print(re.findall(r'ad.....', texto))"
   ]
  },
  {
   "cell_type": "code",
   "execution_count": 13,
   "metadata": {},
   "outputs": [
    {
     "name": "stdout",
     "output_type": "stream",
     "text": [
      "['João', 'Maria', 'joão', 'maria', 'Maria']\n"
     ]
    }
   ],
   "source": [
    "# [] : conjunto de caracteres\n",
    "# Observe que no texto temos um 'João' e um 'joão' na variável texto\n",
    "\n",
    "print(re.findall(r'[Jj]oão|[Mm]aria', texto))"
   ]
  },
  {
   "cell_type": "code",
   "execution_count": 14,
   "metadata": {},
   "outputs": [
    {
     "name": "stdout",
     "output_type": "stream",
     "text": [
      "['joão', 'maria', 'ooão']\n"
     ]
    }
   ],
   "source": [
    "# Também posso colocar um range nesse print:\n",
    "\n",
    "print(re.findall(r'[a-z]oão|[a-z]aria', texto))"
   ]
  },
  {
   "cell_type": "code",
   "execution_count": 15,
   "metadata": {},
   "outputs": [
    {
     "name": "stdout",
     "output_type": "stream",
     "text": [
      "['João', 'Maria', 'joão', 'maria', 'Maria', 'ooão']\n"
     ]
    }
   ],
   "source": [
    "# Perceba que o range anterior cobria apenas as letras minúsculas (a-z)\n",
    "# Para incluir maiúsculas e minúsculas:\n",
    "\n",
    "print(re.findall(r'[a-zA-Z]oão|[a-zA-Z]aria', texto))"
   ]
  },
  {
   "cell_type": "code",
   "execution_count": 16,
   "metadata": {},
   "outputs": [
    {
     "name": "stdout",
     "output_type": "stream",
     "text": [
      "['João', 'Maria', 'joão', 'maria', 'Maria']\n"
     ]
    }
   ],
   "source": [
    "# Para achar todos os valores da string ignorando se estão maiúsculos ou minúsculos, podemos\n",
    "# usar a flag I como parâmetro da função findall\n",
    "\n",
    "print(re.findall(r'jOÃo|mARIa',texto, flags = re.I))         # o 'I' significa 'ignore_case'"
   ]
  },
  {
   "cell_type": "markdown",
   "metadata": {},
   "source": [
    "### Metacaracteres quantificadores:\n",
    "\n",
    "* \\* : 0 ou n vezes;\n",
    "* \\+ : 1 ou n vezes;\n",
    "* ? : 0 ou 1 vez;\n",
    "* { } : {n} vezes ou {min, max} vezes"
   ]
  },
  {
   "cell_type": "code",
   "execution_count": 17,
   "metadata": {},
   "outputs": [],
   "source": [
    "texto = '''\n",
    "João trouxe    flores para sua amada namorada em 10 de janeiro de 1970,\n",
    "Maria era o nome dela.\n",
    "Foi um ano excelente na vida de joão. Teve 5 filhos, todos adultos atualmente.\n",
    "maria, hoje sua esposa, ainda faz aquele café com pão de queijo nas tardes de\n",
    "domingo. Também né! Sendo a boa mineira que é, nunca esquece seu famoso\n",
    "pão de queijo.\n",
    "Não canso de ouvir a Maria:\n",
    "\"Joooooooooãooooooo, o café tá prontinho aqui. Veeemm\"!\n",
    "'''\n",
    "\n",
    "# Os quantificadores são aplicados à direita do caractere referenciado\n",
    "# Para o primeiro caso, imaginemos querer pegar todas as referências a João na variável texto\n",
    "# Inclusive o grito no final"
   ]
  },
  {
   "cell_type": "code",
   "execution_count": 18,
   "metadata": {},
   "outputs": [
    {
     "name": "stdout",
     "output_type": "stream",
     "text": [
      "['João', 'joão', 'Joooooooooão']\n"
     ]
    }
   ],
   "source": [
    "print(re.findall(r'jo+ão', texto, flags= re.I))"
   ]
  },
  {
   "cell_type": "code",
   "execution_count": 19,
   "metadata": {},
   "outputs": [
    {
     "name": "stdout",
     "output_type": "stream",
     "text": [
      "['João', 'joão', 'Joooooooooãooooooo']\n"
     ]
    }
   ],
   "source": [
    "# Para pegar o grito completo:\n",
    "\n",
    "print(re.findall(r'jo+ão+', texto, flags= re.I))"
   ]
  },
  {
   "cell_type": "code",
   "execution_count": 20,
   "metadata": {},
   "outputs": [
    {
     "name": "stdout",
     "output_type": "stream",
     "text": [
      "\n",
      "Henrique trouxe    flores para sua amada namorada em 10 de janeiro de 1970,\n",
      "Maria era o nome dela.\n",
      "Foi um ano excelente na vida de Henrique. Teve 5 filhos, todos adultos atualmente.\n",
      "maria, hoje sua esposa, ainda faz aquele café com pão de queijo nas tardes de\n",
      "domingo. Também né! Sendo a boa mineira que é, nunca esquece seu famoso\n",
      "pão de queijo.\n",
      "Não canso de ouvir a Maria:\n",
      "\"Henrique, o café tá prontinho aqui. Veeemm\"!\n",
      "\n"
     ]
    }
   ],
   "source": [
    "print(re.sub(r'jo+ão+', r'Henrique', texto, flags= re.I))"
   ]
  },
  {
   "cell_type": "code",
   "execution_count": 21,
   "metadata": {},
   "outputs": [
    {
     "name": "stdout",
     "output_type": "stream",
     "text": [
      "\n",
      "Henrique trouxe    flores para sua amada namorada em 10 de janeiro de 1970,\n",
      "Maria era o nome dela.\n",
      "Foi um ano excelente na vida de Henrique. Teve 5 filhos, todos adultos atualmente.\n",
      "maria, hoje sua esposa, ainda faz aquele café com pão de queijo nas tardes de\n",
      "domingo. Também né! Sendo a boa mineira que é, nunca esquece seu famoso\n",
      "pão de queijo.\n",
      "Não canso de ouvir a Maria:\n",
      "\"Henrique, o café tá prontinho aqui. Veeemm\"!\n",
      "\n"
     ]
    }
   ],
   "source": [
    "texto = re.sub(r'jo+ão+', r'Henrique', texto, flags= re.I)\n",
    "\n",
    "print(texto)"
   ]
  },
  {
   "cell_type": "code",
   "execution_count": 22,
   "metadata": {},
   "outputs": [
    {
     "name": "stdout",
     "output_type": "stream",
     "text": [
      "Virou outro negócio\n"
     ]
    }
   ],
   "source": [
    "# Uso de outros metacaracteres:\n",
    "\n",
    "v = 'Jã'\n",
    "\n",
    "v = re.sub(r'jo*ão*', 'Virou outro negócio', v, flags=re.I)\n",
    "\n",
    "print(v)"
   ]
  },
  {
   "cell_type": "code",
   "execution_count": 23,
   "metadata": {},
   "outputs": [
    {
     "name": "stdout",
     "output_type": "stream",
     "text": [
      "O {1,} é equivalente ao +. Dá no mesmo.\n"
     ]
    }
   ],
   "source": [
    "a = 'Joooão'\n",
    "\n",
    "print(re.sub(r'jo{1,}ão', 'O {1,} é equivalente ao +. Dá no mesmo.', a, flags= re.I))"
   ]
  },
  {
   "cell_type": "markdown",
   "metadata": {},
   "source": [
    "<p>Outros exemplos de range:</p>\n",
    "\n",
    "* { , 10} : de 0 a 10;\n",
    "* {5, 10} : de 5 a 10\n",
    "* {3} : especificamente 3 vezes"
   ]
  },
  {
   "cell_type": "code",
   "execution_count": 24,
   "metadata": {},
   "outputs": [
    {
     "name": "stdout",
     "output_type": "stream",
     "text": [
      "['Veeemm', 'veeem']\n"
     ]
    }
   ],
   "source": [
    "texto = '''\n",
    "João trouxe    flores para sua amada namorada em 10 de janeiro de 1970,\n",
    "Maria era o nome dela.\n",
    "Foi um ano excelente na vida de joão. Teve 5 filhos, todos adultos atualmente.\n",
    "maria, hoje sua esposa, ainda faz aquele café com pão de queijo nas tardes de\n",
    "domingo. Também né! Sendo a boa mineira que é, nunca esquece seu famoso\n",
    "pão de queijo.\n",
    "Não canso de ouvir a Maria:\n",
    "\"Joooooooooãooooooo, o café tá prontinho aqui. Veeemm, veeem, vem\"!\n",
    "'''\n",
    "print(re.findall(r've{3}m{1,2}', texto, flags=re.I))"
   ]
  },
  {
   "cell_type": "code",
   "execution_count": 25,
   "metadata": {},
   "outputs": [
    {
     "name": "stdout",
     "output_type": "stream",
     "text": [
      "['ama', 'amado']\n"
     ]
    }
   ],
   "source": [
    "frase = 'Fulano ama ser amado'\n",
    "\n",
    "# Para achar 'ama' e 'amado'\n",
    "\n",
    "print(re.findall(r'ama[a-z]*', frase, flags=re.I))"
   ]
  },
  {
   "cell_type": "markdown",
   "metadata": {},
   "source": [
    "### Metacaracteres greedy vs lazy\n",
    "\n",
    "* greedy : analisam a string inteira; <br>\n",
    "* analisam a string de forma parcial"
   ]
  },
  {
   "cell_type": "code",
   "execution_count": 35,
   "metadata": {},
   "outputs": [],
   "source": [
    "texto = '''\n",
    "<p>Frase 1</p> <p>Eita</p> <p>Qualquer frase</p> <div></div> \n",
    "'''"
   ]
  },
  {
   "cell_type": "code",
   "execution_count": 36,
   "metadata": {},
   "outputs": [
    {
     "name": "stdout",
     "output_type": "stream",
     "text": [
      "['<p>Frase 1</p> <p>Eita</p> <p>Qualquer frase</p> <div></div>']\n"
     ]
    }
   ],
   "source": [
    "# O objetivo agora é reservar em uma lista de conteúdos de tags HTML\n",
    "# Digamos que o programador decida usar a seguinte linha de código:\n",
    "tags = re.findall(r'<[pdiv]{1,3}>.+<\\/[pdiv]{1,3}>', texto)\n",
    "\n",
    "# ache de '<' com interior contendo o conjunto [pdiv] contendo de 1 a 3 caracteres\n",
    "# o '.+' quer dizer qualquer conteúdo dentro da strings até a string /[pdiv] contendo 1 a 3 char\n",
    "# até fechar no símbolo '>'.\n",
    "\n",
    "print(tags)"
   ]
  },
  {
   "cell_type": "code",
   "execution_count": 37,
   "metadata": {},
   "outputs": [
    {
     "name": "stdout",
     "output_type": "stream",
     "text": [
      "['<p>Frase 1</p>', '<p>Eita</p>', '<p>Qualquer frase</p>']\n"
     ]
    }
   ],
   "source": [
    "# A variável tags foi preenchida de forma incorreta uma vez que retornou apenas um item\n",
    "# gigante contendo a string original inteira. Isso acontece porque o '+' ( assim como '*' e outros)\n",
    "# é um metacaractere guloso (greedy) procura seu fechamento até o final da string. Para resolver isso:\n",
    "# Usando o metacarctere '?' depois do '+' fazemos o interpretador se comportar de forma lazy, isto é\n",
    "# procura o \n",
    "\n",
    "tags = re.findall(r'<[pdiv]{1,3}>.+?<\\/[pdiv]{1,3}>', texto)\n",
    "print(tags)"
   ]
  },
  {
   "cell_type": "code",
   "execution_count": 38,
   "metadata": {},
   "outputs": [
    {
     "name": "stdout",
     "output_type": "stream",
     "text": [
      "['<p>Frase 1</p>', '<p>Eita</p>', '<p>Qualquer frase</p>', '<div></div>']\n"
     ]
    }
   ],
   "source": [
    "# Observe que, por ter escolhido o '+', a string que estava vazia não foi para a variável\n",
    "# Caso queira resolver isso:\n",
    "\n",
    "ept_n_tgs = re.findall(r'<[pdiv]{1,3}>.*?<\\/[pdiv]{1,3}>', texto)\n",
    "\n",
    "print(ept_n_tgs)"
   ]
  }
 ],
 "metadata": {
  "interpreter": {
   "hash": "4e7e4edc79d43486975e43ffb9f70caa5d73df88ab12157b795d6266fbee6759"
  },
  "kernelspec": {
   "display_name": "Python 3.9.7 64-bit ('base': conda)",
   "language": "python",
   "name": "python3"
  },
  "language_info": {
   "codemirror_mode": {
    "name": "ipython",
    "version": 3
   },
   "file_extension": ".py",
   "mimetype": "text/x-python",
   "name": "python",
   "nbconvert_exporter": "python",
   "pygments_lexer": "ipython3",
   "version": "3.9.7"
  },
  "orig_nbformat": 4
 },
 "nbformat": 4,
 "nbformat_minor": 2
}

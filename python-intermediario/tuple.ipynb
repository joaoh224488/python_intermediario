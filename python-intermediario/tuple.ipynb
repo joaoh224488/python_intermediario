{
 "cells": [
  {
   "cell_type": "markdown",
   "metadata": {},
   "source": [
    "# Tuplas\n",
    "Para tuplas, basta definir que são imutáveis e grande parte dos métodos de slicing de lista funcionam para as tuplas. Mas achei interessante deixar essa possibilidade de nomeação de variáveis escrita:"
   ]
  },
  {
   "cell_type": "code",
   "execution_count": 24,
   "metadata": {},
   "outputs": [
    {
     "name": "stdout",
     "output_type": "stream",
     "text": [
      "Henrique\n",
      "19\n",
      "Intermares\n"
     ]
    }
   ],
   "source": [
    "indiv = 'Henrique', '19', 'Intermares'\n",
    "nome, idade, bairro = indiv\n",
    "\n",
    "print(nome)\n",
    "print(idade)\n",
    "print(bairro)\n"
   ]
  },
  {
   "cell_type": "markdown",
   "metadata": {},
   "source": [
    "Também é possível fazer um tipo de slicing específico, baseado na ideia da imutabilidade da tupla. O método para marcar isso é semelhante ao usado acima, mas com uma estrela \"*\" para marcar o início do slicing."
   ]
  },
  {
   "cell_type": "code",
   "execution_count": 25,
   "metadata": {},
   "outputs": [
    {
     "ename": "ValueError",
     "evalue": "too many values to unpack (expected 3)",
     "output_type": "error",
     "traceback": [
      "\u001b[0;31m---------------------------------------------------------------------------\u001b[0m",
      "\u001b[0;31mValueError\u001b[0m                                Traceback (most recent call last)",
      "\u001b[0;32m/tmp/ipykernel_35270/1776147594.py\u001b[0m in \u001b[0;36m<module>\u001b[0;34m\u001b[0m\n\u001b[1;32m      1\u001b[0m \u001b[0mmy_tuple\u001b[0m \u001b[0;34m=\u001b[0m \u001b[0;36m0\u001b[0m\u001b[0;34m,\u001b[0m\u001b[0;36m1\u001b[0m\u001b[0;34m,\u001b[0m\u001b[0;36m2\u001b[0m\u001b[0;34m,\u001b[0m\u001b[0;36m3\u001b[0m\u001b[0;34m,\u001b[0m\u001b[0;36m4\u001b[0m\u001b[0;34m,\u001b[0m\u001b[0;36m5\u001b[0m\u001b[0;34m\u001b[0m\u001b[0;34m\u001b[0m\u001b[0m\n\u001b[1;32m      2\u001b[0m \u001b[0;34m\u001b[0m\u001b[0m\n\u001b[0;32m----> 3\u001b[0;31m \u001b[0mi1\u001b[0m\u001b[0;34m,\u001b[0m \u001b[0mi2\u001b[0m\u001b[0;34m,\u001b[0m \u001b[0mi3\u001b[0m \u001b[0;34m=\u001b[0m \u001b[0mmy_tuple\u001b[0m\u001b[0;34m\u001b[0m\u001b[0;34m\u001b[0m\u001b[0m\n\u001b[0m\u001b[1;32m      4\u001b[0m \u001b[0;34m\u001b[0m\u001b[0m\n\u001b[1;32m      5\u001b[0m \u001b[0mprint\u001b[0m\u001b[0;34m(\u001b[0m\u001b[0mi1\u001b[0m\u001b[0;34m)\u001b[0m\u001b[0;34m\u001b[0m\u001b[0;34m\u001b[0m\u001b[0m\n",
      "\u001b[0;31mValueError\u001b[0m: too many values to unpack (expected 3)"
     ]
    }
   ],
   "source": [
    "my_tuple = 0,1,2,3,4,5\n",
    "\n",
    "i1, i2, i3 = my_tuple\n",
    "\n",
    "print(i1)\n",
    "print(i2)\n",
    "print(i3)"
   ]
  },
  {
   "cell_type": "markdown",
   "metadata": {},
   "source": [
    "Note que, sem a '*' a atribuição de variável dá erro."
   ]
  },
  {
   "cell_type": "code",
   "execution_count": null,
   "metadata": {},
   "outputs": [
    {
     "name": "stdout",
     "output_type": "stream",
     "text": [
      "0\n",
      "1\n",
      "[2, 3, 4, 5]\n"
     ]
    }
   ],
   "source": [
    "my_tuple = 0,1,2,3,4,5\n",
    "\n",
    "i1, i2, *i3 = my_tuple\n",
    "\n",
    "print(i1)\n",
    "print(i2)\n",
    "print(i3)"
   ]
  },
  {
   "cell_type": "markdown",
   "metadata": {},
   "source": [
    "Com a '*', o python entende que daquele ponto pra frente, todas as variáveis alocadas farão parte da lista representada pela variável i3."
   ]
  },
  {
   "cell_type": "code",
   "execution_count": null,
   "metadata": {},
   "outputs": [
    {
     "name": "stdout",
     "output_type": "stream",
     "text": [
      "0\n",
      "[1, 2, 3]\n",
      "4\n",
      "5\n"
     ]
    }
   ],
   "source": [
    "my_tuple = 0,1,2,3,4,5\n",
    "\n",
    "i1, *i2, i3, i4= my_tuple\n",
    "\n",
    "print(i1)\n",
    "print(i2)\n",
    "print(i3)\n",
    "print(i4)"
   ]
  },
  {
   "cell_type": "markdown",
   "metadata": {},
   "source": [
    "Note que o python consegue interpretar que os valores i4 e i3 são o penúltimo e o último, respecticvamente. E o i1 é o primeiro valor. O i2 é o que sobra.\n",
    "OBS: NÃO É POSSÍVEL USAR DUAS '*' PARA DECLARAR ESSAS VARIÁVEIS"
   ]
  },
  {
   "cell_type": "markdown",
   "metadata": {},
   "source": [
    "# Utilidade da tupla em comparação com as listas\n",
    "Tuplas são úteis especialmente na manipulação de grandes volumes de dados, umas vez que ocupam menos memória que as listas.\n",
    "## Demonstração:"
   ]
  },
  {
   "cell_type": "code",
   "execution_count": null,
   "metadata": {},
   "outputs": [
    {
     "name": "stdout",
     "output_type": "stream",
     "text": [
      "120 bytes\n",
      "80 bytes\n"
     ]
    }
   ],
   "source": [
    "import sys\n",
    "\n",
    "my_list = [0, 1,  2, 'Hello', True]\n",
    "my_tuple = (0, 1, 2, 'Hello', True)\n",
    "\n",
    "print(sys.getsizeof(my_list), 'bytes')\n",
    "print(sys.getsizeof(my_tuple), 'bytes')"
   ]
  },
  {
   "cell_type": "markdown",
   "metadata": {},
   "source": [
    "Além disso, as tuplas também demorammenos tempo para serem criadas"
   ]
  },
  {
   "cell_type": "code",
   "execution_count": null,
   "metadata": {},
   "outputs": [
    {
     "name": "stdout",
     "output_type": "stream",
     "text": [
      "0.13364433799961262\n",
      "0.019288655999844195\n"
     ]
    }
   ],
   "source": [
    "import timeit\n",
    "my_list = [0, 1,  2, 'Hello', True]\n",
    "my_tuple = (0, 1, 2, 'Hello', True)\n",
    "tempo_mylist = timeit.timeit(stmt= f\"{my_list}\", number=1000000)\n",
    "tempo_mytuple = timeit.timeit(stmt= f\"{my_tuple}\", number=1000000)\n",
    "print(tempo_mylist)\n",
    "print(tempo_mytuple)"
   ]
  }
 ],
 "metadata": {
  "interpreter": {
   "hash": "4e7e4edc79d43486975e43ffb9f70caa5d73df88ab12157b795d6266fbee6759"
  },
  "kernelspec": {
   "display_name": "Python 3.9.7 64-bit ('base': conda)",
   "language": "python",
   "name": "python3"
  },
  "language_info": {
   "codemirror_mode": {
    "name": "ipython",
    "version": 3
   },
   "file_extension": ".py",
   "mimetype": "text/x-python",
   "name": "python",
   "nbconvert_exporter": "python",
   "pygments_lexer": "ipython3",
   "version": "3.9.7"
  },
  "orig_nbformat": 4
 },
 "nbformat": 4,
 "nbformat_minor": 2
}

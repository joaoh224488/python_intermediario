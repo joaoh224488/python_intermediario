{
 "cells": [
  {
   "cell_type": "markdown",
   "metadata": {},
   "source": [
    "# Sets em Python\n",
    "Um set em Python é uma coleção de itens únicos (distintos), a marcação para os sets é a mesma dos dicionários \"{}\"."
   ]
  },
  {
   "cell_type": "code",
   "execution_count": 1,
   "metadata": {},
   "outputs": [
    {
     "name": "stdout",
     "output_type": "stream",
     "text": [
      "{1, 2, 3, 4}\n"
     ]
    }
   ],
   "source": [
    "my_set = {1,2,3,4,1,2}\n",
    "print(my_set)"
   ]
  },
  {
   "cell_type": "markdown",
   "metadata": {},
   "source": [
    "Note que os itens repetidos foram resumidos. Essa é uma característica dos sets."
   ]
  },
  {
   "cell_type": "markdown",
   "metadata": {},
   "source": [
    "Também, os sets são desordenados. Veja a seguir uma demonstração do uso da classe sets para uma sring:"
   ]
  },
  {
   "cell_type": "code",
   "execution_count": 2,
   "metadata": {},
   "outputs": [
    {
     "name": "stdout",
     "output_type": "stream",
     "text": [
      "{'e', 'o', 'H', 'l'}\n"
     ]
    }
   ],
   "source": [
    "my_set = set('Hello')\n",
    "print(my_set)"
   ]
  },
  {
   "cell_type": "markdown",
   "metadata": {},
   "source": [
    "# Métodos em sets:\n",
    "## add()\n",
    "O método para adicionar um elemento ao set é o método \"add\". Para remover, basta usar o método remove das outras variáveis múltiplas."
   ]
  },
  {
   "cell_type": "code",
   "execution_count": 3,
   "metadata": {},
   "outputs": [
    {
     "name": "stdout",
     "output_type": "stream",
     "text": [
      "{1, 2, 3}\n"
     ]
    }
   ],
   "source": [
    "my_set = set() \n",
    "\n",
    "my_set.add(1)\n",
    "my_set.add(2)\n",
    "my_set.add(3)\n",
    "\n",
    "print(my_set)"
   ]
  },
  {
   "cell_type": "markdown",
   "metadata": {},
   "source": [
    "## discard()\n",
    "\n",
    "O método discard recebe um parâmetro e procura no set. Caso o parâmetro esteja no set, o elemento será retirado. Caso não esteja, nada acontece e o comando não dá erro."
   ]
  },
  {
   "cell_type": "code",
   "execution_count": 4,
   "metadata": {},
   "outputs": [
    {
     "name": "stdout",
     "output_type": "stream",
     "text": [
      "{1, 2, 3}\n"
     ]
    }
   ],
   "source": [
    "my_set = {1,2,3,4}\n",
    "\n",
    "my_set.discard(4)\n",
    "\n",
    "print(my_set)"
   ]
  },
  {
   "cell_type": "markdown",
   "metadata": {},
   "source": [
    "## union()\n",
    "\n",
    "Une dois sets, gerando um terceiro. Sendo o primeiro set o que receberá o método e o segundo é um parâmetro."
   ]
  },
  {
   "cell_type": "code",
   "execution_count": 5,
   "metadata": {},
   "outputs": [
    {
     "name": "stdout",
     "output_type": "stream",
     "text": [
      "{0, 1, 2, 3, 4, 5, 6, 7, 8, 9}\n"
     ]
    }
   ],
   "source": [
    "odds = {1,3,5,7,9} # ímpares\n",
    "evens = {0, 2,4,6,8} # pares\n",
    "\n",
    "uni = odds.union(evens)\n",
    "\n",
    "print(uni)"
   ]
  },
  {
   "cell_type": "markdown",
   "metadata": {},
   "source": [
    "## intersection() e difference()\n",
    "\n",
    "intersection() mostra a intersecção de dois sets.\n",
    "difference() mostra os elementos diferentes entre o primeiro e o segundo sets."
   ]
  },
  {
   "cell_type": "code",
   "execution_count": 6,
   "metadata": {},
   "outputs": [
    {
     "name": "stdout",
     "output_type": "stream",
     "text": [
      "{3, 5, 7}\n",
      "{1, 9}\n"
     ]
    }
   ],
   "source": [
    "odds = {1,3,5,7,9} # ímpares\n",
    "primes = {2,3,5,7} # primos\n",
    "\n",
    "inter = odds.intersection(primes)\n",
    "diff = odds.difference(primes)\n",
    "\n",
    "print(inter)\n",
    "\n",
    "print(diff)"
   ]
  },
  {
   "cell_type": "markdown",
   "metadata": {},
   "source": [
    "## symetric_difference()\n",
    "\n",
    "Enquanto o difference mostra a diferença do primeiro set pro segundo, mostrando apenas os elementos do primeiro set que são diferentes do segundo, o symetric_difference() retorna os elementos diferentes de ambos os sets."
   ]
  },
  {
   "cell_type": "code",
   "execution_count": 7,
   "metadata": {},
   "outputs": [
    {
     "name": "stdout",
     "output_type": "stream",
     "text": [
      "{1, 2, 9}\n"
     ]
    }
   ],
   "source": [
    "odds = {1,3,5,7,9} # ímpares\n",
    "primes = {2,3,5,7} # primos\n",
    "\n",
    "sym_diff = odds.symmetric_difference(primes)\n",
    "\n",
    "print(sym_diff)"
   ]
  }
 ],
 "metadata": {
  "interpreter": {
   "hash": "4e7e4edc79d43486975e43ffb9f70caa5d73df88ab12157b795d6266fbee6759"
  },
  "kernelspec": {
   "display_name": "Python 3.9.7 64-bit ('base': conda)",
   "language": "python",
   "name": "python3"
  },
  "language_info": {
   "codemirror_mode": {
    "name": "ipython",
    "version": 3
   },
   "file_extension": ".py",
   "mimetype": "text/x-python",
   "name": "python",
   "nbconvert_exporter": "python",
   "pygments_lexer": "ipython3",
   "version": "3.9.7"
  },
  "orig_nbformat": 4
 },
 "nbformat": 4,
 "nbformat_minor": 2
}

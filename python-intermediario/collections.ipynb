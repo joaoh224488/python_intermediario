{
 "cells": [
  {
   "cell_type": "code",
   "execution_count": 38,
   "metadata": {},
   "outputs": [],
   "source": [
    "import collections as co"
   ]
  },
  {
   "cell_type": "markdown",
   "metadata": {},
   "source": [
    "# collections\n",
    "\n",
    "<p>collections se trata de um módulo python que serve para fornecer alternativas para os contêineres de datatypes em python, isto é: os sets, tuplas, listas e dicionários.</p>\n",
    "\n",
    "### Counter\n",
    "<p>Retorna um dicionário com os index correspondentes a um item específico que armazena a quantidade do item determinado.</p>"
   ]
  },
  {
   "cell_type": "code",
   "execution_count": 39,
   "metadata": {},
   "outputs": [
    {
     "name": "stdout",
     "output_type": "stream",
     "text": [
      "Counter({'a': 6, 'd': 5, 'b': 2, 'c': 2, 'n': 1})\n"
     ]
    }
   ],
   "source": [
    "a = 'aaaaaanbbccddddd'\n",
    "\n",
    "my_counter = co.Counter(a)\n",
    "\n",
    "print(my_counter)"
   ]
  },
  {
   "cell_type": "code",
   "execution_count": 40,
   "metadata": {},
   "outputs": [
    {
     "name": "stdout",
     "output_type": "stream",
     "text": [
      "dict_items([('a', 6), ('n', 1), ('b', 2), ('c', 2), ('d', 5)])\n",
      "dict_values([6, 1, 2, 2, 5])\n",
      "[('a', 6)]\n"
     ]
    }
   ],
   "source": [
    "# Também podemos usar os métodos de dicionário, como o items que retorna uma lista de tuplas relacionada ao \n",
    "# dicionário\n",
    "\n",
    "print(my_counter.items())\n",
    "print(my_counter.values())\n",
    "print(my_counter.most_common(1))\n",
    "# most_commom é um método de dicionário que vê os elementos mais comuns de um dict\n",
    "# se quiser apenas o primeiro elemento, coloque o parâmetro 1 "
   ]
  },
  {
   "cell_type": "markdown",
   "metadata": {},
   "source": [
    "### namedtuple()\n",
    "A nametuple gera um objeto que recebe valores como uma tupla mas é chamado pelo nome especificado no primeiro parâmetro da tupla.\n"
   ]
  },
  {
   "cell_type": "code",
   "execution_count": 41,
   "metadata": {},
   "outputs": [
    {
     "name": "stdout",
     "output_type": "stream",
     "text": [
      "Point(x=1, y=-4)\n"
     ]
    }
   ],
   "source": [
    "point = co.namedtuple('Point', 'x, y')\n",
    "pt = point(1, -4)\n",
    "print(pt)"
   ]
  },
  {
   "cell_type": "code",
   "execution_count": 42,
   "metadata": {},
   "outputs": [
    {
     "name": "stdout",
     "output_type": "stream",
     "text": [
      "1\n",
      "-4\n"
     ]
    }
   ],
   "source": [
    "# Para acessar elementos específicos da namedtuple:\n",
    "\n",
    "print(pt.x)\n",
    "print(pt.y)"
   ]
  },
  {
   "cell_type": "markdown",
   "metadata": {},
   "source": [
    "### OrderedDict\n",
    "\n",
    "Dicionário que lembra a ordem que os itens foram inseridos. (Obs: Essa função não é tão útil desde o python 3.7, quando todos os dicionários passaram a ter a habilidade de lembrar a ordem dos elementos).\n",
    "Por isso, é desnecessário falar sobre a função."
   ]
  },
  {
   "cell_type": "markdown",
   "metadata": {},
   "source": [
    "### defaultdict\n",
    "\n",
    "É um dicionário semelhante ao normal, porém, você pode colocar um parâmetro padrão(default= tipo de variável desejado) para index não definidos."
   ]
  },
  {
   "cell_type": "code",
   "execution_count": 43,
   "metadata": {},
   "outputs": [
    {
     "name": "stdout",
     "output_type": "stream",
     "text": [
      "1\n",
      "2\n",
      "0\n",
      "[]\n"
     ]
    }
   ],
   "source": [
    "dfd = co.defaultdict(int) # default = 0\n",
    "\n",
    "dfd['a'] = 1\n",
    "dfd['b'] = 2\n",
    "\n",
    "print(dfd['a'])\n",
    "print(dfd['b'])\n",
    "print(dfd['qualquer_coisa']) # mesmo não existindo o index, ele retorna o valor padrão para inteiro que é 0\n",
    "# funciona para listas também:\n",
    "\n",
    "dfd = co.defaultdict(list)\n",
    "\n",
    "print(dfd['qualquer_coisa'])"
   ]
  },
  {
   "cell_type": "markdown",
   "metadata": {},
   "source": [
    "### deque\n",
    "<p>deque é um contâiner similar a uma lista, mas com menos custo de memória. Tem suporte para uso da biblioteca copy e as seguintes funções de lista:</p>\n",
    "\n",
    "\n",
    "* append(x):\n",
    "Add x to the right side of the deque\n",
    "\n",
    "* appendleft(x):\n",
    "Add x to the left side of the deque.\n",
    "\n",
    "* clear(): \n",
    "Remove all elements from the deque leaving it with length 0.\n",
    "\n",
    "* copy():\n",
    "Create a shallow copy of the deque.\n",
    "\n",
    "\n",
    "* count(x):\n",
    "Count the number of deque elements equal to x.\n",
    "\n",
    "\n",
    "* extend(iterable):\n",
    "Extend the right side of the deque by appending elements from the iterable argument.\n",
    "\n",
    "* extendleft(iterable):\n",
    "Extend the left side of the deque by appending elements from iterable. Note, the series of left appends results in reversing the order of elements in the iterable argument.\n",
    "\n",
    "* index(x[, start[, stop]]):\n",
    "Return the position of x in the deque (at or after index start and before index stop). Returns the first match or raises ValueError if not found.\n",
    "\n",
    "\n",
    "* insert(i, x):\n",
    "Insert x into the deque at position i.\n",
    "\n",
    "<p>Obs: If the insertion would cause a bounded deque to grow beyond maxlen, an IndexError is raised.</p>\n",
    "\n",
    "* pop():\n",
    "Remove and return an element from the right side of the deque. If no elements are present, raises an IndexError.\n",
    "\n",
    "* popleft():\n",
    "Remove and return an element from the left side of the deque. If no elements are present, raises an IndexError.\n",
    "\n",
    "* remove(value):\n",
    "Remove the first occurrence of value. If not found, raises a ValueError.\n",
    "\n",
    "* reverse():\n",
    "Reverse the elements of the deque in-place and then return None.\n",
    "\n",
    "* rotate(n=1):\n",
    "Rotate the deque n steps to the right. If n is negative, rotate to the left.\n",
    "\n",
    "<p> When the deque is not empty, rotating one step to the right is equivalent to d.appendleft(d.pop()), and rotating one step to the left is equivalent to d.append(d.popleft()).</p>\n",
    "\n",
    "<p>Deque objects also provide one read-only attribute:</p>\n",
    "\n",
    "* maxlen:\n",
    "Maximum size of a deque or None if unbounded.\n",
    "\n"
   ]
  },
  {
   "cell_type": "code",
   "execution_count": 44,
   "metadata": {},
   "outputs": [
    {
     "name": "stdout",
     "output_type": "stream",
     "text": [
      "deque([1, 2, 3, 4, 5, 6, 7, 8, 9, 10])\n"
     ]
    }
   ],
   "source": [
    "d = co.deque()\n",
    "\n",
    "for i in range(1, 11):\n",
    "    d.append(i)\n",
    "\n",
    "print(d)"
   ]
  }
 ],
 "metadata": {
  "interpreter": {
   "hash": "4e7e4edc79d43486975e43ffb9f70caa5d73df88ab12157b795d6266fbee6759"
  },
  "kernelspec": {
   "display_name": "Python 3.9.7 64-bit ('base': conda)",
   "language": "python",
   "name": "python3"
  },
  "language_info": {
   "codemirror_mode": {
    "name": "ipython",
    "version": 3
   },
   "file_extension": ".py",
   "mimetype": "text/x-python",
   "name": "python",
   "nbconvert_exporter": "python",
   "pygments_lexer": "ipython3",
   "version": "3.9.7"
  },
  "orig_nbformat": 4
 },
 "nbformat": 4,
 "nbformat_minor": 2
}

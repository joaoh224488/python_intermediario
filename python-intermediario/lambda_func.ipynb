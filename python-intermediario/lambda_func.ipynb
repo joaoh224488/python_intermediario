{
 "cells": [
  {
   "cell_type": "markdown",
   "metadata": {},
   "source": [
    "# Lambda functions\n",
    "\n",
    "<p> As funções lambda em python são funções pequenas, que dispensam o uso do def.</p>\n",
    "<p>São da forma:</p>\n",
    "<p>lamba arguments: expression</p>\n"
   ]
  },
  {
   "cell_type": "code",
   "execution_count": 1,
   "metadata": {},
   "outputs": [
    {
     "name": "stdout",
     "output_type": "stream",
     "text": [
      "15\n"
     ]
    }
   ],
   "source": [
    "add_10 = lambda x : x+10\n",
    "\n",
    "print(add_10(5))"
   ]
  },
  {
   "cell_type": "code",
   "execution_count": 3,
   "metadata": {},
   "outputs": [
    {
     "name": "stdout",
     "output_type": "stream",
     "text": [
      "20\n"
     ]
    }
   ],
   "source": [
    "## Multiplicação:\n",
    "\n",
    "mult = lambda x,y: x* y\n",
    "\n",
    "print(mult(4,5))"
   ]
  },
  {
   "cell_type": "code",
   "execution_count": 4,
   "metadata": {},
   "outputs": [
    {
     "name": "stdout",
     "output_type": "stream",
     "text": [
      "[(1, 2), (15, 1), (5, -1), (10, 4)]\n",
      "[(1, 2), (5, -1), (10, 4), (15, 1)]\n"
     ]
    }
   ],
   "source": [
    "## Uso de lamba functions como parâmetro key:\n",
    "# Lista de pontos 2D\n",
    "\n",
    "pt_2d = [(1, 2), (15, 1), (5, -1), (10, 4)]\n",
    "\n",
    "sort_pt_2d = sorted(pt_2d)\n",
    "\n",
    "print(pt_2d)\n",
    "print(sort_pt_2d)\n",
    "\n",
    "# Por padrão, o sorted organizará as tuplas pelo primeiro valor\n",
    "# Mas função sorted pode receber um segundo parâmetro key= que recebe uma função como parâmetro\n",
    "# Para usar o sorted a partir do segundo valor:"
   ]
  },
  {
   "cell_type": "code",
   "execution_count": 5,
   "metadata": {},
   "outputs": [
    {
     "name": "stdout",
     "output_type": "stream",
     "text": [
      "[(1, 2), (15, 1), (5, -1), (10, 4)]\n",
      "[(5, -1), (15, 1), (1, 2), (10, 4)]\n"
     ]
    }
   ],
   "source": [
    "pt_2d = [(1, 2), (15, 1), (5, -1), (10, 4)]\n",
    "\n",
    "sort_pt_2d = sorted(pt_2d, key= lambda x: x[1])\n",
    "\n",
    "print(pt_2d)\n",
    "print(sort_pt_2d)"
   ]
  },
  {
   "cell_type": "code",
   "execution_count": 10,
   "metadata": {},
   "outputs": [
    {
     "name": "stdout",
     "output_type": "stream",
     "text": [
      "[(1, 2), (-15, 1), (5, -1), (1, 4)]\n",
      "[(-15, 1), (1, 2), (5, -1), (1, 4)]\n"
     ]
    }
   ],
   "source": [
    "# Para a média:\n",
    "pt_2d = [(1, 2), (-15, 1), (5, -1), (1, 4)]\n",
    "\n",
    "sort_pt_2d = sorted(pt_2d, key= lambda x: (x[0] + x[1])/2)\n",
    "\n",
    "print(pt_2d)\n",
    "print(sort_pt_2d)"
   ]
  },
  {
   "cell_type": "code",
   "execution_count": 13,
   "metadata": {},
   "outputs": [
    {
     "name": "stdout",
     "output_type": "stream",
     "text": [
      "<map object at 0x7f81cfe57340>\n",
      "[2, 4, 6, 8, 10, 12]\n"
     ]
    }
   ],
   "source": [
    "### Usando a função map\n",
    "# Map recebe como parâmetros uma função e uma sequência para modificar\n",
    "\n",
    "a = [1,2,3,4,5, 6]\n",
    "\n",
    "b = map(lambda x: x* 2, a)\n",
    "\n",
    "print(b) # b é um map object\n",
    "\n",
    "print(list(b)) # convertendo b para uma lista"
   ]
  },
  {
   "cell_type": "code",
   "execution_count": 14,
   "metadata": {},
   "outputs": [
    {
     "name": "stdout",
     "output_type": "stream",
     "text": [
      "[2, 4, 6, 8, 10, 12]\n"
     ]
    }
   ],
   "source": [
    "# Obs: Nesse caso, poderemos obter a mesma saída com conhecimento de lista\n",
    "\n",
    "c = [i *2 for i in a ]\n",
    "\n",
    "print(c)"
   ]
  },
  {
   "cell_type": "code",
   "execution_count": 15,
   "metadata": {},
   "outputs": [
    {
     "name": "stdout",
     "output_type": "stream",
     "text": [
      "[2, 4, 6]\n"
     ]
    }
   ],
   "source": [
    "# Filter\n",
    "# A função filter recebe como parâmetro uma função que retorna True or False e uma sequência\n",
    "# retorna um objeto que contém os valores que são True\n",
    "\n",
    "a = [1,2,3,4,5, 6]\n",
    "\n",
    "b = filter(lambda x: x % 2 == 0, a)\n",
    "\n",
    "print(list(b))"
   ]
  },
  {
   "cell_type": "code",
   "execution_count": 17,
   "metadata": {},
   "outputs": [
    {
     "name": "stdout",
     "output_type": "stream",
     "text": [
      "[2, 4, 6]\n"
     ]
    }
   ],
   "source": [
    "# Também pode ser resolvida mais facilmente com técnica de lista\n",
    "\n",
    "c = [i for i in a if i % 2 == 0]\n",
    "\n",
    "print(c)"
   ]
  },
  {
   "cell_type": "code",
   "execution_count": 20,
   "metadata": {},
   "outputs": [
    {
     "name": "stdout",
     "output_type": "stream",
     "text": [
      "720\n"
     ]
    }
   ],
   "source": [
    "# reduce\n",
    "# recebe uma função e uma sequência. A função precisa ter dois parâmetros que se relacionam\n",
    "from functools import reduce\n",
    "a = [1,2,3,4,5,6]\n",
    "\n",
    "produto = reduce(lambda x, y: x * y, a)\n",
    "\n",
    "print(produto)"
   ]
  }
 ],
 "metadata": {
  "interpreter": {
   "hash": "4e7e4edc79d43486975e43ffb9f70caa5d73df88ab12157b795d6266fbee6759"
  },
  "kernelspec": {
   "display_name": "Python 3.9.7 64-bit ('base': conda)",
   "language": "python",
   "name": "python3"
  },
  "language_info": {
   "codemirror_mode": {
    "name": "ipython",
    "version": 3
   },
   "file_extension": ".py",
   "mimetype": "text/x-python",
   "name": "python",
   "nbconvert_exporter": "python",
   "pygments_lexer": "ipython3",
   "version": "3.9.7"
  },
  "orig_nbformat": 4
 },
 "nbformat": 4,
 "nbformat_minor": 2
}
